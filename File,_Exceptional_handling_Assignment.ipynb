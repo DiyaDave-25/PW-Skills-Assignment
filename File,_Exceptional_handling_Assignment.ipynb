{
  "nbformat": 4,
  "nbformat_minor": 0,
  "metadata": {
    "colab": {
      "provenance": []
    },
    "kernelspec": {
      "name": "python3",
      "display_name": "Python 3"
    },
    "language_info": {
      "name": "python"
    }
  },
  "cells": [
    {
      "cell_type": "markdown",
      "source": [
        "# **Files, exceptional handling, logging and memory management Theory Questions:**\n",
        "\n",
        "---\n",
        "# 1. What is the difference between interpreted and compiled languages?\n",
        "\n",
        "  - Interpreted languages run the code line by line (e.g. Python), while compiled languages convert the whole code into machine code before running (e.g. C++).\n",
        "\n",
        "# 2. What is exception handling in Python?\n",
        "\n",
        "  - Exception handling in Python is a way to catch and manage errors using `try`, `except`, `else`, and `finally` blocks, so the program doesn’t crash.\n",
        "\n",
        "# 3. What is the purpose of the finally block in exception handling?\n",
        "\n",
        "  - The `finally` block runs no matter what, whether an exception occurs or not. It's typically used for cleanup tasks like closing files or releasing resources.\n",
        "\n",
        "# 4. What is logging in Python?\n",
        "\n",
        "  - Logging in Python is a way to record messages (like errors, warnings, or info) during program execution. It helps with debugging and tracking the flow of the program. It’s done using the `logging` module.\n",
        "\n",
        "# 5. What is the significance of the `__del__` method in Python?\n",
        "\n",
        "  - The `__del__` method in Python is a destructor. It is automatically called when an object is about to be destroyed, allowing you to clean up resources (e.g., close files or connections). However, it's not guaranteed when it will be called, as Python uses garbage collection.\n",
        "\n",
        "# 6. What is the difference between import and from ... import in Python?\n",
        "\n",
        "  - * `import module`: Imports the entire module, so you need to reference it with the module name (e.g., `module.function()`).\n",
        "* `from module import something`: Imports only specific functions or variables from the module, so you can use them directly (e.g., `function()`).\n",
        "\n",
        "# 7. How can you handle multiple exceptions in Python?\n",
        "\n",
        "  - You can handle multiple exceptions in Python by using multiple `except` blocks or by specifying multiple exceptions in a single `except` block like this:\n",
        "\n",
        "```python\n",
        "try:\n",
        "    # code that might raise an exception\n",
        "except (ExceptionType1, ExceptionType2) as e:\n",
        "    # handle both exceptions\n",
        "```\n",
        "\n",
        "Or:\n",
        "\n",
        "```python\n",
        "try:\n",
        "    # code that might raise an exception\n",
        "except ExceptionType1:\n",
        "    # handle ExceptionType1\n",
        "except ExceptionType2:\n",
        "    # handle ExceptionType2\n",
        "```\n",
        "\n",
        "# 8.What is the purpose of the with statement when handling files in Python?\n",
        "\n",
        "  - The `with` statement simplifies file handling by automatically managing resources. It ensures that the file is properly opened and closed, even if an error occurs. This eliminates the need for manually closing the file with `file.close()`. Example:\n",
        "\n",
        "```python\n",
        "with open('file.txt', 'r') as file:\n",
        "    content = file.read()\n",
        "```\n",
        "\n",
        "Here, the file is automatically closed after reading, even if an exception is raised.\n",
        "\n",
        "# 9. What is the difference between multithreading and multiprocessing?\n",
        "\n",
        "  - * **Multithreading**: Runs multiple threads (smaller tasks) within a single process. Good for I/O-bound tasks (like reading files, network requests) but doesn't fully utilize multiple CPU cores due to Python's Global Interpreter Lock (GIL).\n",
        "\n",
        "* **Multiprocessing**: Runs multiple processes, each with its own memory and Python interpreter. It’s ideal for CPU-bound tasks, as it can utilize multiple CPU cores.\n",
        "\n",
        "# 10. What are the advantages of using logging in a program?\n",
        "\n",
        "  - The advantages of using logging in a program include:\n",
        "\n",
        "1. **Error Tracking**: Helps identify and track errors and exceptions in your program.\n",
        "2. **Debugging**: Provides insights into program flow and variable values, aiding debugging.\n",
        "3. **Persistence**: Logs can be saved to a file, which makes it easy to review past events.\n",
        "4. **Customization**: You can set different log levels (e.g., INFO, WARNING, ERROR) to filter messages.\n",
        "5. **Non-intrusive**: Unlike `print()` statements, logs are less disruptive and can be disabled or redirected without changing the code.\n",
        "\n",
        "# 11. What is memory management in Python?\n",
        "\n",
        "  - Memory management in Python involves automatically allocating and freeing memory using a garbage collection system. Key features include:\n",
        "\n",
        "1. **Automatic memory allocation**: Python handles memory allocation for variables and objects.\n",
        "2. **Garbage collection**: Unused objects are automatically cleaned up to free memory.\n",
        "3. **Reference counting**: Python tracks how many references exist for an object to determine when it’s no longer needed and can be deleted.\n",
        "4. **Memory pools**: Python uses memory pools to manage memory more efficiently and reduce fragmentation.\n",
        "\n",
        "# 12. What are the basic steps involved in exception handling in Python?\n",
        "\n",
        "  - The basic steps involved in exception handling in Python are:\n",
        "\n",
        "1. **Try Block**: Wrap the code that might raise an exception inside a `try` block.\n",
        "2. **Except Block**: Catch and handle specific exceptions using an `except` block.\n",
        "3. **Else Block**: (Optional) Run code if no exception occurs.\n",
        "4. **Finally Block**: (Optional) Execute code that must run, regardless of whether an exception occurred (e.g., clean-up tasks).\n",
        "\n",
        "Example:\n",
        "\n",
        "```python\n",
        "try:\n",
        "    # code that might raise an exception\n",
        "except ExceptionType:\n",
        "    # handle the exception\n",
        "else:\n",
        "    # code to run if no exception occurs\n",
        "finally:\n",
        "    # code to clean up or finalize\n",
        "```\n",
        "\n",
        "# 13. Why is memory management important in Python?\n",
        "\n",
        "  - Memory management is important in Python for several reasons:\n",
        "\n",
        "1. **Efficient Resource Use**: Proper memory management ensures the program uses system memory effectively, preventing memory leaks and reducing unnecessary memory consumption.\n",
        "\n",
        "2. **Performance**: Efficient memory handling helps the program run faster and avoids slowdowns due to excessive memory usage.\n",
        "\n",
        "3. **Garbage Collection**: Python automatically manages memory with its garbage collection system, ensuring objects are cleaned up when no longer needed, which helps in maintaining optimal performance.\n",
        "\n",
        "4. **Avoid Crashes**: Poor memory management can lead to crashes or unexpected behavior due to running out of memory.\n",
        "\n",
        "5. **Scalability**: As programs grow, proper memory management ensures they can scale without running into memory-related issues.\n",
        "\n",
        "# 14. What is the role of try and except in exception handling?\n",
        "\n",
        "  - In exception handling, the role of `try` and `except` is:\n",
        "\n",
        "* **`try`**: It contains the code that might raise an exception. Python attempts to run this code.\n",
        "\n",
        "* **`except`**: If an exception occurs in the `try` block, the `except` block catches and handles it, preventing the program from crashing. You can specify the type of exception you want to catch (e.g., `except ZeroDivisionError:`).\n",
        "\n",
        "Example:\n",
        "\n",
        "```python\n",
        "try:\n",
        "    result = 10 / 0\n",
        "except ZeroDivisionError:\n",
        "    print(\"Cannot divide by zero!\")\n",
        "```\n",
        "\n",
        "# 15. How does Python's garbage collection system work?\n",
        "\n",
        "  - Python's garbage collection system works through **reference counting** and **cyclic garbage collection**:\n",
        "\n",
        "1. **Reference Counting**: Every object in Python has a reference count, which tracks how many references point to it. When the reference count drops to zero (no references to the object), Python automatically frees the memory used by that object.\n",
        "\n",
        "2. **Cyclic Garbage Collection**: Python also detects and handles reference cycles (e.g., objects referencing each other in a cycle). The **`gc` module** helps in this process, periodically checking for circular references and cleaning them up.\n",
        "\n",
        "# 16. What is the purpose of the else block in exception handling?\n",
        "\n",
        "  - The `else` block in exception handling is used to define code that should run **only if no exception** was raised in the `try` block. It allows you to separate the error-handling code from the regular code that should execute when everything works fine.\n",
        "\n",
        "Example:\n",
        "\n",
        "```python\n",
        "try:\n",
        "    result = 10 / 2\n",
        "except ZeroDivisionError:\n",
        "    print(\"Cannot divide by zero!\")\n",
        "else:\n",
        "    print(\"Division successful! The result is:\", result)\n",
        "```\n",
        "\n",
        "Here, the `else` block runs only if there is no exception in the `try` block. If there’s an exception, the `except` block runs instead.\n",
        "\n",
        "# 17. What are the common logging levels in Python?\n",
        "\n",
        "  - The common logging levels in Python, in order of increasing severity, are:\n",
        "\n",
        "1. **DEBUG**: Detailed information, typically useful for diagnosing issues. This is the lowest level.\n",
        "2. **INFO**: General information about the program’s execution, used to track the progress.\n",
        "3. **WARNING**: Indicates something unexpected, but the program can still continue running.\n",
        "4. **ERROR**: Indicates a more serious problem, but the program can still run.\n",
        "5. **CRITICAL**: A very serious error, often causing the program to terminate.\n",
        "\n",
        "Each level filters messages of that level and higher. For example, setting the log level to `WARNING` will show only `WARNING`, `ERROR`, and `CRITICAL` messages.\n",
        "\n",
        "# 18. What is the difference between os.fork() and multiprocessing in Python?\n",
        "\n",
        "  - The main differences between `os.fork()` and the `multiprocessing` module in Python are:\n",
        "\n",
        "1. **`os.fork()`**:\n",
        "\n",
        "   * Creates a child process by duplicating the parent process.\n",
        "   * Available only on Unix-based systems (Linux, macOS).\n",
        "   * The child process gets a copy of the parent’s memory space.\n",
        "   * It’s lower-level and requires manual management of processes and resources.\n",
        "\n",
        "2. **`multiprocessing`**:\n",
        "\n",
        "   * Provides a higher-level API for creating and managing processes.\n",
        "   * Works across different platforms (Linux, macOS, Windows).\n",
        "   * Handles process creation, synchronization, and communication more easily (e.g., through queues, pipes).\n",
        "   * Uses separate memory space for each process, preventing memory sharing issues.\n",
        "\n",
        "# 19. What is the importance of closing a file in Python?\n",
        "\n",
        "  - Closing a file in Python is important for several reasons:\n",
        "\n",
        "1. **Resource Management**: When a file is open, it uses system resources (like memory and file handles). Closing the file releases those resources, preventing resource leaks.\n",
        "\n",
        "2. **Data Integrity**: When writing to a file, data might not be written immediately to disk. Closing the file ensures that all data is properly flushed and saved to the file.\n",
        "\n",
        "3. **Avoiding Errors**: Keeping files open can cause issues, especially if you try to open them again or perform other operations on them. Closing the file helps avoid such errors.\n",
        "\n",
        "Using the `with` statement is a convenient way to ensure the file gets automatically closed after use:\n",
        "\n",
        "```python\n",
        "with open('file.txt', 'r') as file:\n",
        "    content = file.read()\n",
        "# No need to manually close the file; it’s done automatically.\n",
        "```\n",
        "\n",
        "# 20. What is the difference between file.read() and file.readline() in Python?\n",
        "\n",
        "  - The difference between `file.read()` and `file.readline()` in Python is:\n",
        "\n",
        "1. **`file.read()`**:\n",
        "\n",
        "   * Reads the entire content of the file as a single string.\n",
        "   * It loads everything at once, which can be inefficient for large files.\n",
        "\n",
        "   Example:\n",
        "\n",
        "   ```python\n",
        "   with open('file.txt', 'r') as file:\n",
        "       content = file.read()\n",
        "   ```\n",
        "\n",
        "2. **`file.readline()`**:\n",
        "\n",
        "   * Reads one line at a time from the file.\n",
        "   * It’s more memory-efficient for large files because it only loads one line into memory at a time.\n",
        "\n",
        "   Example:\n",
        "\n",
        "   ```python\n",
        "   with open('file.txt', 'r') as file:\n",
        "       line = file.readline()\n",
        "       print(line)\n",
        "   ```\n",
        "\n",
        "# 21. What is the logging module in Python used for?\n",
        "\n",
        "  - The `logging` module in Python is used for tracking and recording events that happen during the execution of a program. It allows you to log messages of different severity levels (e.g., debug, info, warning, error, and critical), which helps with:\n",
        "\n",
        "1. **Debugging**: By tracking the flow of execution and variables, it aids in identifying issues.\n",
        "2. **Error Reporting**: It provides a way to log errors, making it easier to monitor and fix problems.\n",
        "3. **Monitoring**: Logs can be used for ongoing monitoring of program behavior, especially in production environments.\n",
        "4. **Persistence**: Logs can be written to files, allowing you to review past events and behaviors of the program.\n",
        "\n",
        "The `logging` module is more flexible and configurable compared to simple `print()` statements. Example usage:\n",
        "\n",
        "```python\n",
        "import logging\n",
        "\n",
        "logging.basicConfig(level=logging.INFO)\n",
        "logging.info(\"This is an info message.\")\n",
        "logging.error(\"This is an error message.\")\n",
        "```\n",
        "\n",
        "# 22. What is the os module in Python used for in file handling?\n",
        "\n",
        "  - The `os` module in Python is used for interacting with the operating system, and in file handling, it provides functions to perform tasks like:\n",
        "\n",
        "1. **File and Directory Manipulation**:\n",
        "\n",
        "   * `os.mkdir()` and `os.makedirs()` for creating directories.\n",
        "   * `os.remove()` for deleting files.\n",
        "   * `os.rename()` for renaming files or directories.\n",
        "   * `os.rmdir()` and `os.removedirs()` for removing directories.\n",
        "\n",
        "2. **Path Operations**:\n",
        "\n",
        "   * `os.path.exists()` to check if a file or directory exists.\n",
        "   * `os.path.join()` to join paths in a cross-platform way.\n",
        "   * `os.path.basename()` and `os.path.dirname()` to get the file or directory name from a path.\n",
        "   * `os.path.abspath()` to get the absolute path of a file.\n",
        "\n",
        "3. **Working with the Current Directory**:\n",
        "\n",
        "   * `os.getcwd()` to get the current working directory.\n",
        "   * `os.chdir()` to change the current working directory.\n",
        "\n",
        "4. **Listing Files**:\n",
        "\n",
        "   * `os.listdir()` to list all files and directories in a given directory.\n",
        "\n",
        "Example of using the `os` module for file handling:\n",
        "\n",
        "```python\n",
        "import os\n",
        "\n",
        "# Create a new directory\n",
        "os.mkdir('new_folder')\n",
        "\n",
        "# Check if a file exists\n",
        "if os.path.exists('file.txt'):\n",
        "    print(\"File exists\")\n",
        "\n",
        "# Get the current working directory\n",
        "current_dir = os.getcwd()\n",
        "print(\"Current Directory:\", current_dir)\n",
        "```\n",
        "\n",
        "# 23. What are the challenges associated with memory management in Python?\n",
        "\n",
        "  - Memory management in Python, while automated, comes with some challenges:\n",
        "\n",
        "1. **Garbage Collection Overhead**:\n",
        "\n",
        "   * Python uses reference counting and cyclic garbage collection, which can introduce performance overhead, especially in large applications with many objects. The garbage collector might not run immediately, leading to potential memory spikes.\n",
        "\n",
        "2. **Reference Cycles**:\n",
        "\n",
        "   * Objects that reference each other in a cycle (e.g., two objects pointing to each other) may not be cleaned up by reference counting alone. While Python’s cyclic garbage collector helps, managing these cycles can still be tricky.\n",
        "\n",
        "3. **Memory Fragmentation**:\n",
        "\n",
        "   * While Python’s memory management reduces fragmentation, it can still occur over time. This issue arises when small memory blocks are allocated and freed in ways that prevent large contiguous blocks of memory from being used efficiently.\n",
        "\n",
        "4. **Memory Leaks**:\n",
        "\n",
        "   * Despite automatic memory management, memory leaks can occur if objects are unintentionally held in memory (e.g., through circular references that aren’t collected). This can lead to the application consuming more memory over time.\n",
        "\n",
        "5. **Large Object Management**:\n",
        "\n",
        "   * Python’s automatic memory management is less efficient when dealing with large objects. For example, large data structures (like big lists or dictionaries) can be difficult to manage, and they may require more manual intervention to avoid excessive memory usage.\n",
        "\n",
        "6. **Global Interpreter Lock (GIL)**:\n",
        "\n",
        "   * The GIL in CPython prevents multiple threads from running simultaneously in a multi-core processor. This can affect the performance of multi-threaded applications, especially in CPU-bound tasks, as Python’s memory management isn't fully parallelized across multiple cores.\n",
        "\n",
        "7. **Unpredictability of `__del__`**:\n",
        "\n",
        "   * The `__del__` method (destructor) for object cleanup is not always called when expected, especially with circular references or complex object graphs, making it hard to manage when resources like file handles or network connections are released.\n",
        "\n",
        "# 24. How do you raise an exception manually in Python?\n",
        "\n",
        "  - In Python, we can raise an exception manually using the `raise` keyword. You can raise built-in exceptions or create your own custom exceptions. Here's how to do both:\n",
        "\n",
        "### 1. Raising a Built-in Exception:\n",
        "\n",
        "```python\n",
        "raise Exception(\"This is a custom error message.\")\n",
        "```\n",
        "\n",
        "### 2. Raising a Specific Built-in Exception:\n",
        "\n",
        "```python\n",
        "raise ValueError(\"This is a ValueError.\")\n",
        "```\n",
        "\n",
        "### 3. Raising a Custom Exception:\n",
        "\n",
        "You can also create your own custom exceptions by subclassing the built-in `Exception` class.\n",
        "\n",
        "```python\n",
        "class CustomError(Exception):\n",
        "    pass\n",
        "\n",
        "raise CustomError(\"This is a custom exception.\")\n",
        "```\n",
        "\n",
        "### Example in Context:\n",
        "\n",
        "```python\n",
        "def check_age(age):\n",
        "    if age < 18:\n",
        "        raise ValueError(\"Age must be 18 or older.\")\n",
        "    else:\n",
        "        print(\"Age is valid.\")\n",
        "\n",
        "try:\n",
        "    check_age(16)\n",
        "except ValueError as e:\n",
        "    print(f\"Error: {e}\")\n",
        "```\n",
        "\n",
        "# 25. Why is it important to use multithreading in certain applications?\n",
        "\n",
        "  - Multithreading is important in certain applications for the following reasons:\n",
        "\n",
        "1. **Improved Performance for I/O-bound Tasks**:\n",
        "\n",
        "   * In applications that spend a lot of time waiting for external resources (like reading from files, making network requests, or waiting for database queries), multithreading can help by running multiple tasks concurrently. This improves the efficiency of the application by not wasting time waiting for I/O operations to complete.\n",
        "\n",
        "2. **Responsiveness in User Interfaces**:\n",
        "\n",
        "   * For graphical user interfaces (GUIs) or interactive applications, multithreading can ensure that the main thread remains responsive to user actions while other threads handle tasks like background data processing or network communication.\n",
        "\n",
        "3. **Concurrency**:\n",
        "\n",
        "   * Multithreading allows multiple threads to run at the same time (in environments that support true parallelism, like multi-core CPUs). This can make applications more efficient by splitting tasks and executing them concurrently, though the extent of parallelism is limited in Python due to the Global Interpreter Lock (GIL) for CPU-bound tasks.\n",
        "\n",
        "4. **Better Resource Utilization**:\n",
        "\n",
        "   * In multi-core systems, multithreading allows tasks to run in parallel, making better use of available CPU cores and improving overall system performance for suitable workloads.\n",
        "\n",
        "5. **Simplified Program Structure**:\n",
        "\n",
        "   * Multithreading helps organize programs that involve multiple tasks that can be executed concurrently, like data processing, web scraping, or performing calculations in parallel. It simplifies the management of these tasks in the code, especially when they are independent of each other.\n",
        "\n",
        "### Example Use Cases:\n",
        "\n",
        "* **Web Servers**: Handling multiple incoming requests simultaneously.\n",
        "* **File Processing**: Reading and writing files concurrently to improve speed.\n",
        "* **Real-time Applications**: Managing sensors or handling multiple devices in real-time without freezing the application."
      ],
      "metadata": {
        "id": "hTgkXM3UW4Pu"
      }
    },
    {
      "cell_type": "markdown",
      "source": [
        "# **Files, exceptional handling, logging and memory management Practical Questions**:\n",
        "---"
      ],
      "metadata": {
        "id": "MqlEzXBaXskD"
      }
    },
    {
      "cell_type": "code",
      "source": [
        "# 1. How can you open a file for writing in Python and write a string to it?\n",
        "with open('example.txt', 'w') as file:\n",
        "    file.write(\"Hello, this is a test string!\")"
      ],
      "metadata": {
        "id": "byUktm-RXuk7"
      },
      "execution_count": 1,
      "outputs": []
    },
    {
      "cell_type": "code",
      "source": [
        "# 2. Write a Python program to read the contents of a file and print each line.\n",
        "with open('example.txt', 'r') as file:\n",
        "    for line in file:\n",
        "        print(line, end='')"
      ],
      "metadata": {
        "colab": {
          "base_uri": "https://localhost:8080/"
        },
        "id": "nbdV-KRZX4Ml",
        "outputId": "e1158edf-1d8e-4c3f-c1d3-e0eac554e43d"
      },
      "execution_count": 2,
      "outputs": [
        {
          "output_type": "stream",
          "name": "stdout",
          "text": [
            "Hello, this is a test string!"
          ]
        }
      ]
    },
    {
      "cell_type": "code",
      "source": [
        "# 3. How would you handle a case where the file doesn't exist while trying to open it for reading?\n",
        "try:\n",
        "    with open('example.txt', 'r') as file:\n",
        "        for line in file:\n",
        "            print(line, end='')\n",
        "except FileNotFoundError:\n",
        "    print(\"Error: The file 'example.txt' does not exist.\")"
      ],
      "metadata": {
        "colab": {
          "base_uri": "https://localhost:8080/"
        },
        "id": "HveOQtcHYBzp",
        "outputId": "43d6d26f-7887-44d2-c480-e0566fddd2b6"
      },
      "execution_count": 3,
      "outputs": [
        {
          "output_type": "stream",
          "name": "stdout",
          "text": [
            "Hello, this is a test string!"
          ]
        }
      ]
    },
    {
      "cell_type": "code",
      "source": [
        "# 4.Write a Python script that reads from one file and writes its content to another file.\n",
        "with open('source.txt', 'w') as source_file_setup:\n",
        "    source_file_setup.write(\"This is the content of the source file.\")\n",
        "\n",
        "with open('source.txt', 'r') as source_file, open('destination.txt', 'w') as dest_file:\n",
        "    content = source_file.read()\n",
        "    dest_file.write(content)\n",
        "\n",
        "print(\"Content has been copied from 'source.txt' to 'destination.txt'.\")"
      ],
      "metadata": {
        "colab": {
          "base_uri": "https://localhost:8080/"
        },
        "id": "KX0IY56iYHfC",
        "outputId": "535490b2-07cc-4490-80ed-1e9f38ae5487"
      },
      "execution_count": 4,
      "outputs": [
        {
          "output_type": "stream",
          "name": "stdout",
          "text": [
            "Content has been copied from 'source.txt' to 'destination.txt'.\n"
          ]
        }
      ]
    },
    {
      "cell_type": "code",
      "source": [
        "# 5. How would you catch and handle division by zero error in Python?\n",
        "try:\n",
        "    result = 10 / 0\n",
        "except ZeroDivisionError:\n",
        "    print(\"Error: Cannot divide by zero.\")\n",
        "else:\n",
        "    print(f\"The result is {result}\")"
      ],
      "metadata": {
        "colab": {
          "base_uri": "https://localhost:8080/"
        },
        "id": "BS68_7fmYSFf",
        "outputId": "8dde8247-6cb7-4143-eaef-d120ef2caca4"
      },
      "execution_count": 5,
      "outputs": [
        {
          "output_type": "stream",
          "name": "stdout",
          "text": [
            "Error: Cannot divide by zero.\n"
          ]
        }
      ]
    },
    {
      "cell_type": "code",
      "source": [
        "# 6.Write a Python program that logs an error message to a log file when a division by zero exception occurs.\n",
        "import logging\n",
        "\n",
        "logging.basicConfig(filename='error_log.txt', level=logging.ERROR,\n",
        "                    format='%(asctime)s - %(levelname)s - %(message)s')\n",
        "\n",
        "try:\n",
        "    result = 10 / 0\n",
        "except ZeroDivisionError as e:\n",
        "    logging.error(f\"Division by zero error: {e}\")\n",
        "    print(\"Error: Cannot divide by zero. Check the log file for details.\")"
      ],
      "metadata": {
        "colab": {
          "base_uri": "https://localhost:8080/"
        },
        "id": "gTiS5WOPYXyl",
        "outputId": "b4a1f354-797a-4478-e573-094ad98899be"
      },
      "execution_count": 6,
      "outputs": [
        {
          "output_type": "stream",
          "name": "stderr",
          "text": [
            "ERROR:root:Division by zero error: division by zero\n"
          ]
        },
        {
          "output_type": "stream",
          "name": "stdout",
          "text": [
            "Error: Cannot divide by zero. Check the log file for details.\n"
          ]
        }
      ]
    },
    {
      "cell_type": "code",
      "source": [
        "# 7. How do you log information at different levels (INFO, ERROR, WARNING) in Python using the logging module?\n",
        "import logging\n",
        "\n",
        "# Set up logging configuration\n",
        "logging.basicConfig(filename='app.log', level=logging.DEBUG,  # Logs messages from DEBUG level and above\n",
        "                    format='%(asctime)s - %(levelname)s - %(message)s')\n",
        "\n",
        "# Log messages at different levels\n",
        "\n",
        "# INFO level: General information about program operation\n",
        "logging.info('This is an info message.')\n",
        "\n",
        "# WARNING level: Indicates a potential problem or something unexpected\n",
        "logging.warning('This is a warning message.')\n",
        "\n",
        "# ERROR level: Indicates a more serious problem, like an exception or issue\n",
        "logging.error('This is an error message.')\n",
        "\n",
        "# DEBUG level: Detailed information useful for diagnosing problems (lower level)\n",
        "logging.debug('This is a debug message.')\n",
        "\n",
        "# CRITICAL level: A very serious error, often leading to program termination\n",
        "logging.critical('This is a critical message.')"
      ],
      "metadata": {
        "colab": {
          "base_uri": "https://localhost:8080/"
        },
        "id": "voheP3DSYdQe",
        "outputId": "0d110300-a274-47d4-8e0d-5d70c13bc205"
      },
      "execution_count": 7,
      "outputs": [
        {
          "output_type": "stream",
          "name": "stderr",
          "text": [
            "WARNING:root:This is a warning message.\n",
            "ERROR:root:This is an error message.\n",
            "CRITICAL:root:This is a critical message.\n"
          ]
        }
      ]
    },
    {
      "cell_type": "code",
      "source": [
        "# 8. Write a program to handle a file opening error using exception handling.\n",
        "try:\n",
        "    with open('non_existent_file.txt', 'r') as file:\n",
        "        content = file.read()\n",
        "        print(content)\n",
        "except FileNotFoundError:\n",
        "    print(\"Error: The file does not exist.\")\n",
        "except IOError:\n",
        "    print(\"Error: An error occurred while trying to read the file.\")"
      ],
      "metadata": {
        "colab": {
          "base_uri": "https://localhost:8080/"
        },
        "id": "Op4lR8v2YhhE",
        "outputId": "d3e5cf80-34cd-4c80-e01d-e88721a3d9bd"
      },
      "execution_count": 8,
      "outputs": [
        {
          "output_type": "stream",
          "name": "stdout",
          "text": [
            "Error: The file does not exist.\n"
          ]
        }
      ]
    },
    {
      "cell_type": "code",
      "source": [
        "9. How can you read a file line by line and store its content in a list in Python?\n",
        "\n",
        "with open('example.txt', 'r') as file:\n",
        "    lines = [line.strip() for line in file]\n",
        "\n",
        "print(lines)"
      ],
      "metadata": {
        "colab": {
          "base_uri": "https://localhost:8080/"
        },
        "id": "gfz8BvcxYl3J",
        "outputId": "88b5b0be-263f-4f22-f548-08b6647c249c"
      },
      "execution_count": 9,
      "outputs": [
        {
          "output_type": "stream",
          "name": "stdout",
          "text": [
            "Object `Python` not found.\n",
            "['Hello, this is a test string!']\n"
          ]
        }
      ]
    },
    {
      "cell_type": "code",
      "source": [
        "# 10. How can you append data to an existing file in Python?\n",
        "with open('example.txt', 'a') as file:\n",
        "    file.write(\"\\nThis is new data appended to the file.\")\n",
        "\n",
        "print(\"Data has been appended to 'example.txt'.\")"
      ],
      "metadata": {
        "colab": {
          "base_uri": "https://localhost:8080/"
        },
        "id": "0w9yh4DpY0AW",
        "outputId": "e1a09309-b5f7-48d2-fc9a-4949fb65332a"
      },
      "execution_count": 10,
      "outputs": [
        {
          "output_type": "stream",
          "name": "stdout",
          "text": [
            "Data has been appended to 'example.txt'.\n"
          ]
        }
      ]
    },
    {
      "cell_type": "code",
      "source": [
        "# 11. Write a Python program that uses a try-except block to handle an error when attempting to access a dictionary key that doesn't exist.\n",
        "my_dict = {\"name\": \"Alice\", \"age\": 25}\n",
        "\n",
        "try:\n",
        "    value = my_dict[\"address\"]\n",
        "except KeyError as e:\n",
        "    print(f\"Error: Key '{e.args[0]}' not found in the dictionary.\")"
      ],
      "metadata": {
        "colab": {
          "base_uri": "https://localhost:8080/"
        },
        "id": "Jt7MkScRY9hD",
        "outputId": "dec554a6-b9ab-43ad-f3a2-7e510cc00d28"
      },
      "execution_count": 11,
      "outputs": [
        {
          "output_type": "stream",
          "name": "stdout",
          "text": [
            "Error: Key 'address' not found in the dictionary.\n"
          ]
        }
      ]
    },
    {
      "cell_type": "code",
      "source": [
        "# 12. Write a program that demonstrates using multiple except blocks to handle different types of exceptions.\n",
        "try:\n",
        "    num = int(input(\"Enter a number to divide: \"))\n",
        "    divisor = int(input(\"Enter a divisor: \"))\n",
        "\n",
        "    result = num / divisor\n",
        "    print(f\"Result of {num} / {divisor} = {result}\")\n",
        "\n",
        "except ValueError:\n",
        "    print(\"Error: Please enter a valid integer.\")\n",
        "\n",
        "except ZeroDivisionError:\n",
        "    print(\"Error: Division by zero is not allowed.\")\n",
        "\n",
        "except Exception as e:\n",
        "    print(f\"An unexpected error occurred: {e}\")"
      ],
      "metadata": {
        "colab": {
          "base_uri": "https://localhost:8080/"
        },
        "id": "jytcOxmbZCKP",
        "outputId": "d6663019-ba60-4fb6-85c1-659d8a84f698"
      },
      "execution_count": 12,
      "outputs": [
        {
          "output_type": "stream",
          "name": "stdout",
          "text": [
            "Enter a number to divide: 20\n",
            "Enter a divisor: 2\n",
            "Result of 20 / 2 = 10.0\n"
          ]
        }
      ]
    },
    {
      "cell_type": "code",
      "source": [
        "# 13. How would you check if a file exists before attempting to read it in Python?\n",
        "import os\n",
        "\n",
        "file_path = \"example.txt\"\n",
        "\n",
        "if os.path.exists(file_path):\n",
        "    with open(file_path, 'r') as file:\n",
        "        content = file.read()\n",
        "        print(content)\n",
        "else:\n",
        "    print(f\"The file '{file_path}' does not exist.\")"
      ],
      "metadata": {
        "colab": {
          "base_uri": "https://localhost:8080/"
        },
        "id": "b0sUaEn9ZG0A",
        "outputId": "1de4d395-0016-4dea-b1dc-3a025f91be6d"
      },
      "execution_count": 13,
      "outputs": [
        {
          "output_type": "stream",
          "name": "stdout",
          "text": [
            "Hello, this is a test string!\n",
            "This is new data appended to the file.\n"
          ]
        }
      ]
    },
    {
      "cell_type": "code",
      "source": [
        "# 14.Write a program that uses the logging module to log both informational and error messages?\n",
        "import logging\n",
        "\n",
        "logging.basicConfig(\n",
        "    level=logging.DEBUG,\n",
        "    format='%(asctime)s - %(levelname)s - %(message)s',\n",
        "    handlers=[\n",
        "        logging.FileHandler('app.log'),\n",
        "        logging.StreamHandler()\n",
        "    ]\n",
        ")\n",
        "\n",
        "logging.info(\"This is an informational message.\")\n",
        "\n",
        "try:\n",
        "    x = 10 / 0\n",
        "except ZeroDivisionError as e:\n",
        "    logging.error(f\"An error occurred: {e}\")"
      ],
      "metadata": {
        "colab": {
          "base_uri": "https://localhost:8080/"
        },
        "id": "V-gUyXOeZNLX",
        "outputId": "0452e6fb-d1f1-4cb6-883a-728865cbe5d6"
      },
      "execution_count": 14,
      "outputs": [
        {
          "output_type": "stream",
          "name": "stderr",
          "text": [
            "ERROR:root:An error occurred: division by zero\n"
          ]
        }
      ]
    },
    {
      "cell_type": "code",
      "source": [
        "# 15. Write a Python program that prints the content of a file and handles the case when the file is empty.\n",
        "file_path = \"example.txt\"\n",
        "\n",
        "try:\n",
        "    with open(file_path, 'r') as file:\n",
        "        content = file.read().strip()\n",
        "\n",
        "        if not content:\n",
        "            print(f\"The file '{file_path}' is empty.\")\n",
        "        else:\n",
        "            print(f\"Content of the file '{file_path}':\")\n",
        "            print(content)\n",
        "\n",
        "except FileNotFoundError:\n",
        "    print(f\"Error: The file '{file_path}' does not exist.\")\n",
        "except Exception as e:\n",
        "    print(f\"An unexpected error occurred: {e}\")"
      ],
      "metadata": {
        "colab": {
          "base_uri": "https://localhost:8080/"
        },
        "id": "zig9jqFAZll2",
        "outputId": "8743f100-bae4-4f66-c986-bfa4306bf290"
      },
      "execution_count": 15,
      "outputs": [
        {
          "output_type": "stream",
          "name": "stdout",
          "text": [
            "Content of the file 'example.txt':\n",
            "Hello, this is a test string!\n",
            "This is new data appended to the file.\n"
          ]
        }
      ]
    },
    {
      "cell_type": "code",
      "source": [
        "# 16. Demonstrate how to use memory profiling to check the memory usage of a small program.\n",
        "!pip install memory_profiler\n",
        "from memory_profiler import profile\n",
        "\n",
        "@profile\n",
        "def my_function():\n",
        "    a = [i for i in range(1000)]\n",
        "    b = [i**2 for i in range(1000)]\n",
        "    result = sum(a) + sum(b)\n",
        "    print(f\"Sum of elements: {result}\")\n",
        "    return result\n",
        "\n",
        "if __name__ == \"__main__\":\n",
        "    my_function()"
      ],
      "metadata": {
        "colab": {
          "base_uri": "https://localhost:8080/"
        },
        "id": "A6w8_kqaZs4Y",
        "outputId": "bf094bde-f4bb-41b6-b56d-52250e445aa3"
      },
      "execution_count": 16,
      "outputs": [
        {
          "output_type": "stream",
          "name": "stdout",
          "text": [
            "Collecting memory_profiler\n",
            "  Downloading memory_profiler-0.61.0-py3-none-any.whl.metadata (20 kB)\n",
            "Requirement already satisfied: psutil in /usr/local/lib/python3.11/dist-packages (from memory_profiler) (5.9.5)\n",
            "Downloading memory_profiler-0.61.0-py3-none-any.whl (31 kB)\n",
            "Installing collected packages: memory_profiler\n",
            "Successfully installed memory_profiler-0.61.0\n",
            "ERROR: Could not find file /tmp/ipython-input-3334829552.py\n",
            "Sum of elements: 333333000\n"
          ]
        }
      ]
    },
    {
      "cell_type": "code",
      "source": [
        "# 17. Write a Python program to create and write a list of numbers to a file, one number per line.\n",
        "numbers_list = [10, 20, 30, 40, 50]\n",
        "\n",
        "file_name = \"my_numbers.txt\"\n",
        "\n",
        "with open(file_name, 'w') as file:\n",
        "    for number in numbers_list:\n",
        "        file.write(f\"{number}\\n\")\n",
        "\n",
        "print(f\"Successfully wrote numbers to {file_name}\")"
      ],
      "metadata": {
        "colab": {
          "base_uri": "https://localhost:8080/"
        },
        "id": "M5FE7ra6Z11m",
        "outputId": "3e4f25b0-9f77-40a1-ad39-fab7dea0b845"
      },
      "execution_count": 17,
      "outputs": [
        {
          "output_type": "stream",
          "name": "stdout",
          "text": [
            "Successfully wrote numbers to my_numbers.txt\n"
          ]
        }
      ]
    },
    {
      "cell_type": "code",
      "source": [
        "# 18.How would you implement a basic logging setup that logs to a file with rotation after 1MB?\n",
        "import logging\n",
        "from logging.handlers import RotatingFileHandler\n",
        "\n",
        "log_file = \"app.log\"\n",
        "\n",
        "handler = RotatingFileHandler(log_file, maxBytes=1 * 1024 * 1024, backupCount=3)\n",
        "\n",
        "logging.basicConfig(\n",
        "    level=logging.INFO,\n",
        "    format='%(asctime)s - %(levelname)s - %(message)s',\n",
        "    handlers=[handler]\n",
        ")\n",
        "\n",
        "logging.info(\"This is an informational message.\")\n",
        "logging.warning(\"This is a warning message.\")\n",
        "logging.error(\"This is an error message.\")\n",
        "\n",
        "for i in range(1000):\n",
        "    logging.debug(f\"Debug message #{i}\")"
      ],
      "metadata": {
        "colab": {
          "base_uri": "https://localhost:8080/"
        },
        "id": "uYc4f9NpZ9GF",
        "outputId": "1bd92ee9-4063-4207-c4d0-57d91fa6acd9"
      },
      "execution_count": 18,
      "outputs": [
        {
          "output_type": "stream",
          "name": "stderr",
          "text": [
            "WARNING:root:This is a warning message.\n",
            "ERROR:root:This is an error message.\n"
          ]
        }
      ]
    },
    {
      "cell_type": "code",
      "source": [
        "# 19. Write a program that handles both IndexError and KeyError using a try-except block.\n",
        "my_list = [1, 2, 3]\n",
        "my_dict = {\"name\": \"Virat\", \"age\": 36}\n",
        "\n",
        "try:\n",
        "    print(my_list[5])\n",
        "    print(my_dict[\"address\"])\n",
        "\n",
        "except IndexError as e:\n",
        "    print(f\"IndexError occurred: {e}\")\n",
        "\n",
        "except KeyError as e:\n",
        "    print(f\"KeyError occurred: {e}\")"
      ],
      "metadata": {
        "colab": {
          "base_uri": "https://localhost:8080/"
        },
        "id": "2aZzs-zgaHrI",
        "outputId": "545bf148-a3a5-490e-ebbd-b3c8fed3d410"
      },
      "execution_count": 19,
      "outputs": [
        {
          "output_type": "stream",
          "name": "stdout",
          "text": [
            "IndexError occurred: list index out of range\n"
          ]
        }
      ]
    },
    {
      "cell_type": "code",
      "source": [
        "# 20. How would you open a file and read its contents using a context manager in Python?\n",
        "file_path = \"example.txt\"\n",
        "\n",
        "with open(file_path, 'r') as file:\n",
        "    content = file.read()\n",
        "\n",
        "    if content:\n",
        "        print(content)\n",
        "    else:\n",
        "        print(\"The file is empty.\")"
      ],
      "metadata": {
        "colab": {
          "base_uri": "https://localhost:8080/"
        },
        "id": "SN14iBWFaP9d",
        "outputId": "b5960abb-3c85-4c3e-a9e4-a0a47e483e5b"
      },
      "execution_count": 20,
      "outputs": [
        {
          "output_type": "stream",
          "name": "stdout",
          "text": [
            "Hello, this is a test string!\n",
            "This is new data appended to the file.\n"
          ]
        }
      ]
    },
    {
      "cell_type": "code",
      "source": [
        "# 21. Write a Python program that reads a file and prints the number of occurrences of a specific word.\n",
        "def count_word_occurrences(file_path, target_word):\n",
        "    try:\n",
        "        with open(file_path, 'r') as file:\n",
        "            word_count = 0\n",
        "\n",
        "            for line in file:\n",
        "                word_count += line.lower().split().count(target_word.lower())\n",
        "\n",
        "        return word_count\n",
        "\n",
        "    except FileNotFoundError:\n",
        "        print(f\"Error: The file '{file_path}' does not exist.\")\n",
        "        return 0\n",
        "\n",
        "file_path = \"example.txt\"\n",
        "target_word = \"python\"\n",
        "\n",
        "occurrences = count_word_occurrences(file_path, target_word)\n",
        "\n",
        "if occurrences > 0:\n",
        "    print(f\"The word '{target_word}' occurs {occurrences} time(s) in the file.\")\n",
        "else:\n",
        "    print(f\"The word '{target_word}' does not occur in the file.\")"
      ],
      "metadata": {
        "colab": {
          "base_uri": "https://localhost:8080/"
        },
        "id": "E9OTlq1jaWBY",
        "outputId": "7ff6041b-a839-4eb5-820d-248bc07497e8"
      },
      "execution_count": 21,
      "outputs": [
        {
          "output_type": "stream",
          "name": "stdout",
          "text": [
            "The word 'python' does not occur in the file.\n"
          ]
        }
      ]
    },
    {
      "cell_type": "code",
      "source": [
        "# 22. How can you check if a file is empty before attempting to read its contents?\n",
        "import os\n",
        "\n",
        "def is_file_empty(file_path):\n",
        "    return os.path.getsize(file_path) == 0\n",
        "\n",
        "file_path = \"example.txt\"\n",
        "\n",
        "if is_file_empty(file_path):\n",
        "    print(f\"The file '{file_path}' is empty.\")\n",
        "else:\n",
        "    with open(file_path, 'r') as file:\n",
        "        content = file.read()\n",
        "        print(\"File content:\")\n",
        "        print(content)"
      ],
      "metadata": {
        "colab": {
          "base_uri": "https://localhost:8080/"
        },
        "id": "evuY2KGUaeE6",
        "outputId": "d1603886-fb6a-436d-f4a6-8fdcfb30434c"
      },
      "execution_count": 22,
      "outputs": [
        {
          "output_type": "stream",
          "name": "stdout",
          "text": [
            "File content:\n",
            "Hello, this is a test string!\n",
            "This is new data appended to the file.\n"
          ]
        }
      ]
    },
    {
      "cell_type": "code",
      "execution_count": 23,
      "metadata": {
        "id": "GxSUQQDwWMGO"
      },
      "outputs": [],
      "source": [
        "# 23. Write a Python program that writes to a log file when an error occurs during file handling.\n",
        "import logging\n",
        "\n",
        "logging.basicConfig(\n",
        "    filename='file_handling_errors.log',\n",
        "    level=logging.ERROR,\n",
        "    format='%(asctime)s - %(levelname)s - %(message)s'\n",
        ")\n",
        "\n",
        "def read_file(file_path):\n",
        "    try:\n",
        "        with open(file_path, 'r') as file:\n",
        "            content = file.read()\n",
        "    except FileNotFoundError as e:\n",
        "        logging.error(f\"File not found: {file_path} - {e}\")\n",
        "        print(f\"Error: The file '{file_path}' was not found.\")\n",
        "    except PermissionError as e:\n",
        "        logging.error(f\"Permission error: {file_path} - {e}\")\n",
        "        print(f\"Error: Permission denied for the file '{file_path}'.\")\n",
        "    except Exception as e:\n",
        "        logging.error(f\"Unexpected error with file {file_path} - {e}\")\n",
        "        print(f\"An unexpected error occurred with the file '{file_path}'.\")\n",
        "\n",
        "file_path = \"example.txt\"\n",
        "read_file(file_path)"
      ]
    }
  ]
}