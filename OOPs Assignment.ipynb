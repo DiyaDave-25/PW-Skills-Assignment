{
  "nbformat": 4,
  "nbformat_minor": 0,
  "metadata": {
    "colab": {
      "provenance": []
    },
    "kernelspec": {
      "name": "python3",
      "display_name": "Python 3"
    },
    "language_info": {
      "name": "python"
    }
  },
  "cells": [
    {
      "cell_type": "markdown",
      "source": [
        "# **Python OOPs Assignment Theory Questions**"
      ],
      "metadata": {
        "id": "7ULoeAgqZexS"
      }
    },
    {
      "cell_type": "markdown",
      "source": [
        "# 1. What is Object-Oriented Programming (OOP)?\n",
        "---\n",
        "  - Object-Oriented Programming (OOP) is a programming paradigm that organizes software design around objects rather than actions and data rather than logic.\n",
        "  - In OOP, objects are instances of classes, which can be thought of as blueprints or templates for creating objects.\n",
        "\n",
        "# 2. What is a class in OOP?\n",
        "---\n",
        "  - In Object-Oriented Programming (OOP), a class is a blueprint or template for creating objects. It defines the structure and behaviors that the objects created from it will have.\n",
        "  - Essentially, a class provides a way to group related data and functions together, so that they can be managed in a modular way.\n",
        "\n",
        "  **Key Components of a Class:*\n",
        "\n",
        "  **Attributes(Properties)*: These are variables that represent the state or data of an object. They are sometimes called fields or member variables. Every object created from the class can have different values for these attributes.\n",
        "\n",
        "  **Methods(Functions)*: These are functions that define the behavior of the objects. Methods usually operate on the object's attributes and can perform tasks like changing their values or providing output based on them.\n",
        "\n",
        "  **Constructor*: A special method that is automatically called when a new object of the class is created. It initializes the object and sets up its attributes with initial values.\n",
        "\n",
        "# 3. What is an object in OOP?\n",
        "---\n",
        "  - In **Object-Oriented Programming (OOP)**, an **object** is an instance of a **class**. While a class is the blueprint or template, an object is the actual entity created based on that blueprint.\n",
        "\n",
        "  - An object combines **data** (attributes) and **functions** (methods) into a single unit. It is the concrete manifestation of a class and can be thought of as an individual entity that can hold its own state and behavior.\n",
        "\n",
        "### Key Points About Objects:\n",
        "\n",
        "1. **Instance of a Class**: When you create an object, it is an instance of a particular class. A class defines the structure and behavior, and an object is a specific instantiation of that class.\n",
        "\n",
        "2. **Attributes (State)**: The data that belongs to the object. These are the variables associated with the object, and each object can have its own distinct set of values for these attributes.\n",
        "\n",
        "3. **Methods (Behavior)**: The functions that are associated with the object. These methods define the actions that an object can perform.\n",
        "\n",
        "# 4.  What is the difference between abstraction and encapsulation?\n",
        "---\n",
        "\n",
        "Great question! **Abstraction** and **encapsulation** are two fundamental concepts in **Object-Oriented Programming (OOP)**, and while they are related, they serve different purposes. Let's break down each one to see how they differ.\n",
        "\n",
        "### 1. **Abstraction**\n",
        "\n",
        "* **Abstraction** is about **hiding the complexity** and showing only the essential features of an object or system. In other words, abstraction lets you focus on what an object does, rather than how it does it. It provides a simplified view by hiding unnecessary details.\n",
        "* The goal of abstraction is to reduce complexity and allow a programmer to work with a higher-level view of the problem.\n",
        "\n",
        "#### Key Points:\n",
        "\n",
        "* Hides **implementation details**.\n",
        "* Focuses on **what** an object does, not **how** it does it.\n",
        "* Often implemented using **abstract classes** or **interfaces**.\n",
        "* Allows the programmer to work with concepts without worrying about the specifics.\n",
        "\n",
        "### 2. **Encapsulation**\n",
        "\n",
        "* **Encapsulation** is about **bundling the data (attributes)** and the methods (functions) that operate on that data into a single unit (class). It also refers to restricting access to some of an object’s internal state or data and controlling how that data is accessed or modified. This is done using **private** or **protected** access modifiers.\n",
        "* Encapsulation helps to **protect** the object’s data from unauthorized access and modification. It makes sure that the object’s state remains consistent.\n",
        "\n",
        "#### Key Points:\n",
        "\n",
        "* Combines **data** (attributes) and **methods** (behavior) into one unit (class).\n",
        "* Controls access to object data through **public** and **private** methods (getters/setters).\n",
        "* **Prevents unauthorized modification** of the object's state.\n",
        "* Protects an object's internal state and ensures it can only be changed in a controlled way.\n",
        "\n",
        "# 5.  What are dunder methods in Python?\n",
        "---\n",
        "**Dunder methods** (short for **double underscore** methods) are special methods in Python that allow you to customize how objects behave. They are also called **magic methods**. These methods have double underscores (`__`) at the beginning and end of their names.\n",
        "\n",
        "### Common Dunder Methods:\n",
        "\n",
        "1. **`__init__(self)`**: The **constructor** used to initialize an object when it’s created.\n",
        "\n",
        "```python\n",
        "   class Dog:\n",
        "       def __init__(self, name):\n",
        "           self.name = name\n",
        "```\n",
        "\n",
        "2. **`__str__(self)`**: Defines how an object is represented as a string (e.g., when using `print()`).\n",
        "\n",
        "```python\n",
        "   class Dog:\n",
        "       def __str__(self):\n",
        "           return f\"My dog is {self.name}\"\n",
        "```\n",
        "\n",
        "3. **`__repr__(self)`**: Provides a detailed string representation of the object (useful for debugging).\n",
        "\n",
        "4. **`__len__(self)`**: Defines how `len()` works on an object (e.g., length of a list).\n",
        "\n",
        "5. **`__add__(self, other)`**: Customizes the behavior of the `+` operator for objects (like adding two objects).\n",
        "\n",
        "   ```python\n",
        "   class Point:\n",
        "       def __add__(self, other):\n",
        "           return Point(self.x + other.x, self.y + other.y)\n",
        "   ```\n",
        "\n",
        "6. **`__eq__(self, other)`**: Defines how `==` works to compare objects.\n",
        "\n",
        "7. **`__call__(self, ...)`**: Allows an object to be called like a function.\n",
        "\n",
        "   ```python\n",
        "   class Multiplier:\n",
        "       def __call__(self, num):\n",
        "           return num * self.factor\n",
        "   ```\n",
        "\n",
        "# 6. Explain the concept of inheritance in OOP.\n",
        "---\n",
        "\n",
        "**Inheritance** in Object-Oriented Programming (OOP) is a way to create a new class from an existing class. The new class (called the **child** or **subclass**) **inherits** attributes and methods from the existing class (called the **parent** or **superclass**).\n",
        "\n",
        "### Key Points:\n",
        "\n",
        "* **Reusability**: The child class can use the code from the parent class, avoiding repetition.\n",
        "* **Extension**: The child class can add new attributes and methods or override (change) the parent class's methods.\n",
        "\n",
        "### Example:\n",
        "\n",
        "```python\n",
        "# Parent class (superclass)\n",
        "class Animal:\n",
        "    def speak(self):\n",
        "        print(\"Animal speaks\")\n",
        "\n",
        "# Child class (subclass) inherits from Animal\n",
        "class Dog(Animal):\n",
        "    def speak(self):\n",
        "        print(\"Dog barks\")\n",
        "\n",
        "# Creating an object of the Dog class\n",
        "dog = Dog()\n",
        "dog.speak()  # Output: Dog barks\n",
        "```\n",
        "\n",
        "### Why Use Inheritance?\n",
        "\n",
        "* **Code Reusability**: The child class can reuse the methods and attributes of the parent class.\n",
        "* **Flexibility**: You can extend or modify the behavior of the parent class without changing it.\n",
        "\n",
        "# 7. What is polymorphism in OOP?\n",
        "---\n",
        "**Polymorphism** in Object-Oriented Programming (OOP) means **\"many forms\"**. It allows different classes to have methods with the same name, but each class can implement the method in its own way.\n",
        "\n",
        "### Key Points:\n",
        "\n",
        "* **Same method name** but **different behavior** depending on the object.\n",
        "* It allows you to use a common interface (method name) for different types of objects.\n",
        "\n",
        "### Example:\n",
        "\n",
        "```python\n",
        "# Parent class (superclass)\n",
        "class Animal:\n",
        "    def speak(self):\n",
        "        print(\"Animal speaks\")\n",
        "\n",
        "# Child class (subclass)\n",
        "class Dog(Animal):\n",
        "    def speak(self):\n",
        "        print(\"Dog barks\")\n",
        "\n",
        "# Another child class\n",
        "class Cat(Animal):\n",
        "    def speak(self):\n",
        "        print(\"Cat meows\")\n",
        "\n",
        "# Using polymorphism\n",
        "animals = [Dog(), Cat()]\n",
        "\n",
        "for animal in animals:\n",
        "    animal.speak()  # Output: Dog barks, Cat meows\n",
        "```\n",
        "# 8. How is encapsulation achieved in Python?\n",
        "---\n",
        "**Encapsulation** in Python is achieved by bundling data (attributes) and methods (functions) that operate on that data into a single class. It also involves controlling access to an object's internal state by using access modifiers.\n",
        "\n",
        "### How it's done:\n",
        "\n",
        "1. **Private Attributes**: Add `__` before an attribute to make it private.\n",
        "\n",
        "   ```python\n",
        "   class Person:\n",
        "       def __init__(self, name):\n",
        "           self.__name = name  # Private attribute\n",
        "   ```\n",
        "\n",
        "2. **Public Methods**: Use methods (functions) to access or modify private data.\n",
        "\n",
        "   ```python\n",
        "   class Person:\n",
        "       def __init__(self, name):\n",
        "           self.__name = name\n",
        "\n",
        "       def get_name(self):  # Getter method\n",
        "           return self.__name\n",
        "   ```\n",
        "\n",
        "3. **Getter and Setter**: Use getter methods to access private attributes and setter methods to modify them.\n",
        "\n",
        "   ```python\n",
        "   class Person:\n",
        "       def __init__(self, name):\n",
        "           self.__name = name\n",
        "\n",
        "       def get_name(self):\n",
        "           return self.__name\n",
        "\n",
        "       def set_name(self, name):\n",
        "           self.__name = name\n",
        "   ```\n",
        "\n",
        "# 9. What is a constructor in Python?\n",
        "---\n",
        "A **constructor** in Python is a special method called `__init__()`. It is automatically called when an object of a class is created. The constructor is used to initialize the object's attributes.\n",
        "\n",
        "### Example:\n",
        "\n",
        "```python\n",
        "class Person:\n",
        "    def __init__(self, name, age):  # Constructor\n",
        "        self.name = name  # Initialize attributes\n",
        "        self.age = age\n",
        "\n",
        "# Creating an object\n",
        "person = Person(\"Alice\", 30)\n",
        "\n",
        "# Accessing attributes\n",
        "print(person.name)  # Output: Alice\n",
        "print(person.age)   # Output: 30\n",
        "```\n",
        "\n",
        "#  10. What are class and static methods in Python.\n",
        "---\n",
        "### **Class Method**:\n",
        "\n",
        "A **class method** is a method that takes the class itself as the first argument (usually `cls`), not the instance. It’s defined using the `@classmethod` decorator. Class methods can access and modify class-level attributes.\n",
        "\n",
        "### Example:\n",
        "\n",
        "```python\n",
        "class MyClass:\n",
        "    count = 0  # Class attribute\n",
        "\n",
        "    @classmethod\n",
        "    def increment_count(cls):\n",
        "        cls.count += 1\n",
        "\n",
        "# Using class method\n",
        "MyClass.increment_count()\n",
        "print(MyClass.count)  # Output: 1\n",
        "```\n",
        "\n",
        "### **Static Method**:\n",
        "\n",
        "A **static method** does not take `self` or `cls` as its first argument. It behaves like a regular function but belongs to the class. It’s defined using the `@staticmethod` decorator.\n",
        "\n",
        "### Example:\n",
        "\n",
        "```python\n",
        "class MyClass:\n",
        "    @staticmethod\n",
        "    def greet(name):\n",
        "        print(f\"Hello, {name}!\")\n",
        "\n",
        "# Using static method\n",
        "MyClass.greet(\"Alice\")  # Output: Hello, Alice!\n",
        "```\n",
        "\n",
        "### Key Differences:\n",
        "\n",
        "* **Class Method**: Takes the class as the first argument (`cls`), works with class-level attributes.\n",
        "* **Static Method**: Doesn’t take `self` or `cls`, behaves like a regular function but belongs to the class.\n",
        "\n",
        "# 11. What is method overloading in Python?\n",
        "---\n",
        "**Method overloading** in Python is the ability to define multiple methods with the same name but different parameters. However, Python doesn't support **traditional** method overloading (like in languages such as Java or C++). Instead, you can achieve similar behavior using default arguments or variable-length arguments.\n",
        "\n",
        "### Example of Overloading with Default Arguments:\n",
        "\n",
        "```python\n",
        "class Calculator:\n",
        "    def add(self, a, b=0):  # Default value for b\n",
        "        return a + b\n",
        "\n",
        "# Using the add method with one or two arguments\n",
        "calc = Calculator()\n",
        "print(calc.add(5))    # Output: 5\n",
        "print(calc.add(5, 3)) # Output: 8\n",
        "```\n",
        "\n",
        "### Example of Overloading with Variable-Length Arguments:\n",
        "\n",
        "```python\n",
        "class Calculator:\n",
        "    def add(self, *args):  # Accepts any number of arguments\n",
        "        return sum(args)\n",
        "\n",
        "# Using the add method with different numbers of arguments\n",
        "calc = Calculator()\n",
        "print(calc.add(1, 2))        # Output: 3\n",
        "print(calc.add(1, 2, 3, 4))  # Output: 10\n",
        "```\n",
        "\n",
        "# 12. What is method overriding in OOP?\n",
        "---\n",
        "**Method overriding** in OOP is when a subclass **provides its own implementation** of a method that is already defined in its parent class. The subclass method has the **same name** and **signature** but a different behavior.\n",
        "\n",
        "### Example:\n",
        "\n",
        "```python\n",
        "class Animal:\n",
        "    def speak(self):\n",
        "        print(\"Animal speaks\")\n",
        "\n",
        "class Dog(Animal):\n",
        "    def speak(self):  # Overriding the parent class method\n",
        "        print(\"Dog barks\")\n",
        "\n",
        "# Using overridden method\n",
        "dog = Dog()\n",
        "dog.speak()  # Output: Dog barks\n",
        "```\n",
        "\n",
        "# 13. What is a property decorator in Python?\n",
        "---\n",
        "The **`@property` decorator** in Python allows you to define a method as an **attribute**, so you can access it like an attribute, but still run logic (like a method) behind the scenes.\n",
        "\n",
        "### Example:\n",
        "\n",
        "```python\n",
        "class Circle:\n",
        "    def __init__(self, radius):\n",
        "        self._radius = radius\n",
        "\n",
        "    @property\n",
        "    def radius(self):  # Getter method\n",
        "        return self._radius\n",
        "\n",
        "    @property\n",
        "    def area(self):  # Calculated property\n",
        "        return 3.14 * self._radius ** 2\n",
        "\n",
        "# Using the property\n",
        "circle = Circle(5)\n",
        "print(circle.radius)  # Output: 5\n",
        "print(circle.area)    # Output: 78.5\n",
        "```\n",
        "\n",
        "### Key Points:\n",
        "\n",
        "* **`@property`** turns a method into an attribute-like access.\n",
        "* It allows you to **get** values without calling a method explicitly.\n",
        "* You can also add **setters** (with `@property_name.setter`) to control how attributes are modified.\n",
        "\n",
        "# 14.  Why is polymorphism important in OOP?\n",
        "---\n",
        "**Polymorphism** is important in OOP because it allows different objects to be treated as the same type, even if they behave differently. This enables you to write **generic** and **flexible** code, where the same method can work with objects of different classes.\n",
        "\n",
        "### Key Benefits:\n",
        "\n",
        "1. **Code Reusability**: You can use the same method name for different classes, making the code simpler and reusable.\n",
        "2. **Flexibility**: It allows you to add new classes without changing existing code, as long as they follow the same method structure.\n",
        "\n",
        "### Example:\n",
        "\n",
        "```python\n",
        "class Dog:\n",
        "    def speak(self):\n",
        "        print(\"Bark\")\n",
        "\n",
        "class Cat:\n",
        "    def speak(self):\n",
        "        print(\"Meow\")\n",
        "\n",
        "def make_animal_speak(animal):\n",
        "    animal.speak()  # Polymorphism in action\n",
        "\n",
        "make_animal_speak(Dog())  # Output: Bark\n",
        "make_animal_speak(Cat())  # Output: Meow\n",
        "```\n",
        "\n",
        "# 15. What is an abstract class in Python?\n",
        "---\n",
        "An **abstract class** in Python is a class that cannot be instantiated directly. It is meant to be a **blueprint** for other classes. Abstract classes can have **abstract methods** (methods without implementation), which must be implemented by subclasses.\n",
        "\n",
        "### Key Points:\n",
        "\n",
        "* **Abstract class**: Defined using the `abc` module and `ABC` base class.\n",
        "* **Abstract methods**: Methods defined with `@abstractmethod` that must be overridden in subclasses.\n",
        "\n",
        "### Example:\n",
        "\n",
        "```python\n",
        "from abc import ABC, abstractmethod\n",
        "\n",
        "class Animal(ABC):\n",
        "    @abstractmethod\n",
        "    def speak(self):  # Abstract method\n",
        "        pass\n",
        "\n",
        "class Dog(Animal):\n",
        "    def speak(self):  # Implementing the abstract method\n",
        "        print(\"Bark\")\n",
        "\n",
        "# animal = Animal()  # Error: Can't instantiate abstract class\n",
        "dog = Dog()\n",
        "dog.speak()  # Output: Bark\n",
        "```\n",
        "\n",
        "# 16. What are the advantages of OOP?\n",
        "---\n",
        "The advantages of **Object-Oriented Programming (OOP)** are:\n",
        "\n",
        "1. **Modularity**: Code is organized into classes and objects, making it easier to manage and update.\n",
        "2. **Reusability**: You can reuse code through inheritance and create new functionality without changing existing code.\n",
        "3. **Scalability**: OOP makes it easier to scale and extend applications as you can add new classes and features without affecting existing ones.\n",
        "4. **Maintainability**: Since objects are self-contained, it's easier to fix bugs and make changes to the code.\n",
        "5. **Encapsulation**: Keeps data safe by restricting direct access to it, and ensures data integrity by using methods for interaction.\n",
        "6. **Flexibility (Polymorphism)**: Allows different objects to be treated as the same type, making the code more flexible and reusable.\n",
        "\n",
        "# 17. What is the difference between a class variable and an instance variable.\n",
        "---\n",
        "### **Class Variable**:\n",
        "\n",
        "* **Shared by all instances** of the class.\n",
        "* Defined directly within the class (outside any methods).\n",
        "* Changes to the class variable affect all instances.\n",
        "\n",
        "### **Instance Variable**:\n",
        "\n",
        "* **Unique to each instance** (object) of the class.\n",
        "* Defined within methods (usually in `__init__`).\n",
        "* Each object can have different values for its instance variables.\n",
        "\n",
        "### Example:\n",
        "\n",
        "```python\n",
        "class Dog:\n",
        "    species = \"Canine\"  # Class variable\n",
        "\n",
        "    def __init__(self, name):\n",
        "        self.name = name  # Instance variable\n",
        "\n",
        "# Creating two instances\n",
        "dog1 = Dog(\"Buddy\")\n",
        "dog2 = Dog(\"Max\")\n",
        "\n",
        "print(dog1.species)  # Output: Canine (same for all)\n",
        "print(dog2.species)  # Output: Canine (same for all)\n",
        "print(dog1.name)     # Output: Buddy (unique for each)\n",
        "print(dog2.name)     # Output: Max (unique for each)\n",
        "```\n",
        "\n",
        "### Key Difference:\n",
        "\n",
        "* **Class variable**: Shared across all instances.\n",
        "* **Instance variable**: Unique to each instance.\n",
        "\n",
        "# 18. What is multiple inheritance in Python?\n",
        "---\n",
        "**Multiple inheritance** in Python is a feature where a class can inherit from more than one parent class. This allows a class to inherit attributes and methods from multiple classes.\n",
        "\n",
        "### Example:\n",
        "\n",
        "```python\n",
        "class Animal:\n",
        "    def speak(self):\n",
        "        print(\"Animal speaks\")\n",
        "\n",
        "class Mammal:\n",
        "    def has_fur(self):\n",
        "        print(\"Has fur\")\n",
        "\n",
        "class Dog(Animal, Mammal):  # Multiple inheritance\n",
        "    def bark(self):\n",
        "        print(\"Dog barks\")\n",
        "\n",
        "# Creating a Dog object\n",
        "dog = Dog()\n",
        "dog.speak()    # From Animal class\n",
        "dog.has_fur()  # From Mammal class\n",
        "dog.bark()     # From Dog class\n",
        "```\n",
        "\n",
        "### Key Points:\n",
        "\n",
        "* **Multiple inheritance** allows a class to inherit from **more than one parent class**.\n",
        "* It provides more **flexibility** but can lead to complexity if not managed carefully (e.g., method resolution order or MRO).\n",
        "\n",
        "# 19.Explain the purpose of **`__str__`** and **`__repr__`** methods in Python.\n",
        "---\n",
        "In Python, both **`__str__`** and **`__repr__`** are special methods used to define how an object is represented as a string. They serve different purposes:\n",
        "\n",
        "### **`__str__`**:\n",
        "\n",
        "* **Purpose**: Provides a **user-friendly** string representation of the object.\n",
        "* **Used by**: The `print()` function or `str()` function.\n",
        "* It should return a readable and informal description of the object.\n",
        "\n",
        "### Example of `__str__`:\n",
        "\n",
        "```python\n",
        "class Dog:\n",
        "    def __init__(self, name):\n",
        "        self.name = name\n",
        "\n",
        "    def __str__(self):\n",
        "        return f\"Dog named {self.name}\"\n",
        "\n",
        "dog = Dog(\"Buddy\")\n",
        "print(dog)  # Output: Dog named Buddy\n",
        "```\n",
        "\n",
        "### **`__repr__`**:\n",
        "\n",
        "* **Purpose**: Provides an **unambiguous** string representation of the object, useful for debugging and development.\n",
        "* **Used by**: The `repr()` function and the interpreter when an object is entered in the interactive shell.\n",
        "* It should ideally return a string that could be used to **recreate** the object.\n",
        "\n",
        "### Example of `__repr__`:\n",
        "\n",
        "```python\n",
        "class Dog:\n",
        "    def __init__(self, name):\n",
        "        self.name = name\n",
        "\n",
        "    def __repr__(self):\n",
        "        return f\"Dog('{self.name}')\"\n",
        "\n",
        "dog = Dog(\"Buddy\")\n",
        "print(repr(dog))  # Output: Dog('Buddy')\n",
        "```\n",
        "\n",
        "### Key Differences:\n",
        "\n",
        "* **`__str__`**: User-friendly, informal string representation.\n",
        "* **`__repr__`**: Developer-friendly, unambiguous string representation (often for debugging).\n",
        "\n",
        "# 20. What is the significance of the `super()` function in Python.\n",
        "---\n",
        "The `super()` function in Python is used to **call methods** from a **parent class** (or superclass) in a child class. It helps to avoid directly referencing the parent class, making your code more flexible and maintainable, especially in cases of **inheritance**.\n",
        "\n",
        "### Key Uses:\n",
        "\n",
        "1. **Calling a Parent Class's Method**: You can use `super()` to call a method from the parent class, often when you want to extend or modify its behavior in the child class.\n",
        "2. **Method Resolution Order (MRO)**: In case of **multiple inheritance**, `super()` ensures that the method resolution order (MRO) is followed properly to call the correct parent class method.\n",
        "\n",
        "### Example:\n",
        "\n",
        "```python\n",
        "class Animal:\n",
        "    def speak(self):\n",
        "        print(\"Animal speaks\")\n",
        "\n",
        "class Dog(Animal):\n",
        "    def speak(self):\n",
        "        super().speak()  # Calling the parent class method\n",
        "        print(\"Dog barks\")\n",
        "\n",
        "# Creating a Dog object\n",
        "dog = Dog()\n",
        "dog.speak()\n",
        "```\n",
        "\n",
        "**Output:**\n",
        "\n",
        "```\n",
        "Animal speaks\n",
        "Dog barks\n",
        "```\n",
        "\n",
        "### Key Points:\n",
        "\n",
        "* `super()` calls the **parent class**'s method.\n",
        "* It’s used to **avoid repeating code** and to ensure **proper method resolution** in multiple inheritance.\n",
        "\n",
        "# 21. What is the significance of the `__del__` method in Python?\n",
        "---\n",
        "The **`__del__`** method in Python is a **destructor** method. It is automatically called when an object is about to be **destroyed** or **garbage collected**. This method allows you to define any **cleanup actions** that need to be performed before the object is removed from memory, such as closing files or releasing resources.\n",
        "\n",
        "### Key Points:\n",
        "\n",
        "* The **`__del__`** method is called when an object is deleted or goes out of scope.\n",
        "* It can be used to perform **cleanup tasks**, like closing open files or database connections.\n",
        "* Python's **garbage collector** manages when to call `__del__`, so it's not always predictable exactly when it's executed.\n",
        "\n",
        "### Example:\n",
        "\n",
        "```python\n",
        "class FileHandler:\n",
        "    def __init__(self, filename):\n",
        "        self.file = open(filename, 'w')\n",
        "        print(f\"File {filename} opened.\")\n",
        "\n",
        "    def __del__(self):\n",
        "        self.file.close()  # Clean up resource (close the file)\n",
        "        print(\"File closed.\")\n",
        "\n",
        "# Creating an object\n",
        "handler = FileHandler(\"example.txt\")\n",
        "\n",
        "# The file will be closed when the object is deleted or goes out of scope\n",
        "del handler  # Output: File closed.\n",
        "```\n",
        "\n",
        "### Significance:\n",
        "\n",
        "* **Resource management**: The `__del__` method ensures proper cleanup of resources when the object is no longer needed.\n",
        "* **Garbage Collection**: It is important for managing resources that Python’s automatic garbage collection may not handle directly (like file handles or network connections).\n",
        "\n",
        "# 22. What is the difference between @staticmethod and @classmethod in Python?\n",
        "---\n",
        "In Python, both **`@staticmethod`** and **`@classmethod`** are used to define methods that are not bound to an instance of the class, but they differ in how they access the class or instance.\n",
        "\n",
        "### **`@staticmethod`**:\n",
        "\n",
        "* **Does not take** `self` or `cls` as the first parameter.\n",
        "* **Does not have access** to the instance or class attributes.\n",
        "* Works like a regular function but belongs to the class.\n",
        "* You use it for utility functions that don’t need access to instance or class-level data.\n",
        "\n",
        "### Example:\n",
        "\n",
        "```python\n",
        "class MyClass:\n",
        "    @staticmethod\n",
        "    def greet(name):\n",
        "        print(f\"Hello, {name}!\")\n",
        "\n",
        "# Using static method\n",
        "MyClass.greet(\"Alice\")  # Output: Hello, Alice!\n",
        "```\n",
        "\n",
        "### **`@classmethod`**:\n",
        "\n",
        "* Takes **`cls`** as the first parameter, which is the class itself.\n",
        "* Has access to **class-level** attributes and methods.\n",
        "* It can modify class-level attributes or call other class methods.\n",
        "\n",
        "### Example:\n",
        "\n",
        "```python\n",
        "class MyClass:\n",
        "    count = 0\n",
        "    \n",
        "    @classmethod\n",
        "    def increment_count(cls):\n",
        "        cls.count += 1\n",
        "\n",
        "# Using class method\n",
        "MyClass.increment_count()\n",
        "print(MyClass.count)  # Output: 1\n",
        "```\n",
        "\n",
        "### Key Differences:\n",
        "\n",
        "1. **`@staticmethod`**: Does not access class or instance data. It’s a general utility function.\n",
        "2. **`@classmethod`**: Takes the class (`cls`) as the first argument and can modify class-level attributes.\n",
        "\n",
        "# 23. How does polymorphism work in Python with inheritance?\n",
        "---\n",
        "In Python, **polymorphism** with **inheritance** allows different classes to have methods with the same name, but each class can implement the method in its own way. When you call a method on an object, Python determines the correct method to execute based on the object's class, even if the method name is the same.\n",
        "\n",
        "### How It Works:\n",
        "\n",
        "* A **base class** defines a method.\n",
        "* **Derived classes** (subclasses) override the method to provide their own specific implementation.\n",
        "* You can call the method on an object, and Python will use the appropriate method based on the object's class (this is **runtime polymorphism**).\n",
        "\n",
        "### Example of Polymorphism with Inheritance:\n",
        "\n",
        "```python\n",
        "class Animal:\n",
        "    def speak(self):\n",
        "        print(\"Animal speaks\")\n",
        "\n",
        "class Dog(Animal):\n",
        "    def speak(self):  # Overriding the speak method\n",
        "        print(\"Dog barks\")\n",
        "\n",
        "class Cat(Animal):\n",
        "    def speak(self):  # Overriding the speak method\n",
        "        print(\"Cat meows\")\n",
        "\n",
        "# Creating objects\n",
        "dog = Dog()\n",
        "cat = Cat()\n",
        "\n",
        "# Calling the same method on different objects\n",
        "dog.speak()  # Output: Dog barks\n",
        "cat.speak()  # Output: Cat meows\n",
        "```\n",
        "\n",
        "### Key Points:\n",
        "\n",
        "* **Same method name** (`speak`), but different implementations in each subclass (`Dog`, `Cat`).\n",
        "* Python uses **runtime polymorphism** to determine the correct method to call based on the actual object type.\n",
        "\n",
        "### Why It's Useful:\n",
        "\n",
        "* **Flexibility**: You can write more generic code that can work with objects of different types, but still calls the appropriate method for each object.\n",
        "* **Extendability**: You can add new classes with different behaviors without modifying the existing code.\n",
        "\n",
        "# 24. What is method chaining in Python OOP?\n",
        "---\n",
        "**Method chaining** in Python OOP refers to calling multiple methods on the same object in a single line of code. This is possible because each method returns the object itself (or another object), allowing you to continue calling methods in sequence.\n",
        "\n",
        "### How It Works:\n",
        "\n",
        "* A method returns `self` (the instance of the object), allowing the next method to be called on the same object.\n",
        "* It makes the code more concise and readable.\n",
        "\n",
        "### Example:\n",
        "\n",
        "```python\n",
        "class Calculator:\n",
        "    def __init__(self, value=0):\n",
        "        self.value = value\n",
        "\n",
        "    def add(self, x):\n",
        "        self.value += x\n",
        "        return self  # Return the object itself for chaining\n",
        "\n",
        "    def subtract(self, x):\n",
        "        self.value -= x\n",
        "        return self  # Return the object itself for chaining\n",
        "\n",
        "    def multiply(self, x):\n",
        "        self.value *= x\n",
        "        return self  # Return the object itself for chaining\n",
        "\n",
        "    def get_result(self):\n",
        "        return self.value\n",
        "\n",
        "# Using method chaining\n",
        "calc = Calculator()\n",
        "result = calc.add(5).subtract(2).multiply(3).get_result()\n",
        "\n",
        "print(result)  # Output: 9 (because (0 + 5 - 2) * 3 = 9)\n",
        "```\n",
        "\n",
        "# 25. What is the purpose of the `__call__` method in Python?\n",
        "---\n",
        "The **`__call__`** method in Python allows an object of a class to be **called like a function**. When you define this method in a class, you can use instances of that class as if they were functions.\n",
        "\n",
        "### Purpose:\n",
        "\n",
        "* It makes an object **callable**, meaning you can use parentheses `()` with the object to invoke its functionality.\n",
        "* This is useful when you want an object to behave like a function or perform an action when \"called.\"\n",
        "\n",
        "### How It Works:\n",
        "\n",
        "* The **`__call__`** method is automatically triggered when you \"call\" an object, just like calling a function.\n",
        "* You can pass arguments to `__call__`, and it allows you to define what the object should do when invoked.\n",
        "\n",
        "### Example:\n",
        "\n",
        "```python\n",
        "class Adder:\n",
        "    def __init__(self, value):\n",
        "        self.value = value\n",
        "\n",
        "    def __call__(self, x):\n",
        "        return self.value + x  # Adds x to the stored value\n",
        "\n",
        "# Creating an object\n",
        "add_five = Adder(5)\n",
        "\n",
        "# Using the object as a function\n",
        "result = add_five(10)  # Output: 15\n",
        "print(result)\n",
        "```\n",
        "\n",
        "### Key Points:\n",
        "\n",
        "* **`__call__`** is invoked when an instance is called like a function.\n",
        "* You can pass arguments to the **`__call__`** method.\n",
        "* It’s useful for **creating function-like objects** or implementing the **functional object pattern**."
      ],
      "metadata": {
        "id": "83EAiZVdZq2i"
      }
    },
    {
      "cell_type": "markdown",
      "source": [
        "# **Python OOPs Assignment Practical Questions**"
      ],
      "metadata": {
        "id": "0V7MhMM9jCK6"
      }
    },
    {
      "cell_type": "markdown",
      "source": [
        "# 1. Create a parent class Animal with a method speak() that prints a generic message. Create a child class Dog that overrides the speak() method to print \"Bark!\".\n"
      ],
      "metadata": {
        "id": "KC9dB5fijKO1"
      }
    },
    {
      "cell_type": "code",
      "source": [
        "# Parent class\n",
        "class Animal:\n",
        "    def speak(self):\n",
        "        print(\"Animal makes a sound\")\n",
        "\n",
        "# Child class\n",
        "class Dog(Animal):\n",
        "    def speak(self):  # Overriding the speak method\n",
        "        print(\"Bark!\")\n",
        "\n",
        "# Creating an object of Dog class\n",
        "dog = Dog()\n",
        "dog.speak()  # Output: Bark!"
      ],
      "metadata": {
        "colab": {
          "base_uri": "https://localhost:8080/"
        },
        "id": "L95hgin8jVc5",
        "outputId": "12d9a959-0649-4e6a-8d78-e3a791df25b0"
      },
      "execution_count": 1,
      "outputs": [
        {
          "output_type": "stream",
          "name": "stdout",
          "text": [
            "Bark!\n"
          ]
        }
      ]
    },
    {
      "cell_type": "markdown",
      "source": [
        "# 2. Write a program to create an abstract class Shape with a method area(). Derive classes Circle and Rectangle from it and implement the area() method in both."
      ],
      "metadata": {
        "id": "vM8Q0v8hjlZr"
      }
    },
    {
      "cell_type": "code",
      "source": [
        "from abc import ABC, abstractmethod\n",
        "import math\n",
        "\n",
        "# Abstract class Shape\n",
        "class Shape(ABC):\n",
        "    @abstractmethod\n",
        "    def area(self):\n",
        "        pass\n",
        "\n",
        "# Derived class Circle\n",
        "class Circle(Shape):\n",
        "    def __init__(self, radius):\n",
        "        self.radius = radius\n",
        "\n",
        "    def area(self):\n",
        "        return math.pi * self.radius ** 2  # Area of circle: π * r^2\n",
        "\n",
        "# Derived class Rectangle\n",
        "class Rectangle(Shape):\n",
        "    def __init__(self, length, width):\n",
        "        self.length = length\n",
        "        self.width = width\n",
        "\n",
        "    def area(self):\n",
        "        return self.length * self.width  # Area of rectangle: length * width\n",
        "\n",
        "# Creating objects of Circle and Rectangle\n",
        "circle = Circle(5)\n",
        "rectangle = Rectangle(4, 6)\n",
        "\n",
        "# Calculating and printing the areas\n",
        "print(f\"Area of Circle: {circle.area()}\")  # Output: Area of Circle: 78.53981633974483\n",
        "print(f\"Area of Rectangle: {rectangle.area()}\")  # Output: Area of Rectangle: 24"
      ],
      "metadata": {
        "colab": {
          "base_uri": "https://localhost:8080/"
        },
        "id": "uENXfUNWjqGH",
        "outputId": "65ac85c5-15d7-4ddc-d1b3-283b5ad4b7b4"
      },
      "execution_count": 2,
      "outputs": [
        {
          "output_type": "stream",
          "name": "stdout",
          "text": [
            "Area of Circle: 78.53981633974483\n",
            "Area of Rectangle: 24\n"
          ]
        }
      ]
    },
    {
      "cell_type": "markdown",
      "source": [
        "#  3. Implement a multi-level inheritance scenario where a class Vehicle has an attribute type. Derive a class Car and further derive a class ElectricCar that adds a battery attribute."
      ],
      "metadata": {
        "id": "pGC0xWrjkG1r"
      }
    },
    {
      "cell_type": "code",
      "source": [
        "# Base class Vehicle\n",
        "class Vehicle:\n",
        "    def __init__(self, type):\n",
        "        self.type = type\n",
        "\n",
        "    def display_type(self):\n",
        "        print(f\"This is a {self.type}.\")\n",
        "\n",
        "# Derived class Car inherits from Vehicle\n",
        "class Car(Vehicle):\n",
        "    def __init__(self, type, model):\n",
        "        super().__init__(type)  # Call the parent class constructor\n",
        "        self.model = model\n",
        "\n",
        "    def display_model(self):\n",
        "        print(f\"This car is a {self.model}.\")\n",
        "\n",
        "# Further derived class ElectricCar inherits from Car\n",
        "class ElectricCar(Car):\n",
        "    def __init__(self, type, model, battery):\n",
        "        super().__init__(type, model)  # Call the parent class constructor\n",
        "        self.battery = battery\n",
        "\n",
        "    def display_battery(self):\n",
        "        print(f\"This electric car has a {self.battery} battery.\")\n",
        "\n",
        "# Creating an object of ElectricCar\n",
        "electric_car = ElectricCar(\"Electric Vehicle\", \"Tesla Model S\", \"100 kWh\")\n",
        "\n",
        "# Calling methods from different levels of the inheritance\n",
        "electric_car.display_type()      # From Vehicle class\n",
        "electric_car.display_model()     # From Car class\n",
        "electric_car.display_battery()   # From ElectricCar class"
      ],
      "metadata": {
        "colab": {
          "base_uri": "https://localhost:8080/"
        },
        "id": "zihLG32okPVD",
        "outputId": "62b604e3-24dd-4686-b22b-b8015504d11f"
      },
      "execution_count": 3,
      "outputs": [
        {
          "output_type": "stream",
          "name": "stdout",
          "text": [
            "This is a Electric Vehicle.\n",
            "This car is a Tesla Model S.\n",
            "This electric car has a 100 kWh battery.\n"
          ]
        }
      ]
    },
    {
      "cell_type": "markdown",
      "source": [
        "# 4. Demonstrate polymorphism by creating a base class Bird with a method fly(). Create two derived classes Sparrow and Penguin that override the fly() method."
      ],
      "metadata": {
        "id": "F0kKeqPvkVsY"
      }
    },
    {
      "cell_type": "code",
      "source": [
        "# Base class Bird\n",
        "class Bird:\n",
        "    def fly(self):\n",
        "        print(\"This bird can fly.\")\n",
        "\n",
        "# Derived class Sparrow\n",
        "class Sparrow(Bird):\n",
        "    def fly(self):\n",
        "        print(\"The sparrow flies high in the sky.\")\n",
        "\n",
        "# Derived class Penguin\n",
        "class Penguin(Bird):\n",
        "    def fly(self):\n",
        "        print(\"The penguin cannot fly, it swims.\")\n",
        "\n",
        "# Creating objects of Sparrow and Penguin\n",
        "sparrow = Sparrow()\n",
        "penguin = Penguin()\n",
        "\n",
        "# Calling the fly() method on both objects\n",
        "sparrow.fly()   # Output: The sparrow flies high in the sky.\n",
        "penguin.fly()   # Output: The penguin cannot fly, it swims."
      ],
      "metadata": {
        "colab": {
          "base_uri": "https://localhost:8080/"
        },
        "id": "2kzd3FQnkaJE",
        "outputId": "069d325c-28b4-49f4-cb1f-808a08faa93f"
      },
      "execution_count": 4,
      "outputs": [
        {
          "output_type": "stream",
          "name": "stdout",
          "text": [
            "The sparrow flies high in the sky.\n",
            "The penguin cannot fly, it swims.\n"
          ]
        }
      ]
    },
    {
      "cell_type": "markdown",
      "source": [
        "# 5. Write a program to demonstrate encapsulation by creating a class BankAccount with private attributes balance and methods to deposit, withdraw, and check balance."
      ],
      "metadata": {
        "id": "7z3RYDDCkf9B"
      }
    },
    {
      "cell_type": "code",
      "source": [
        "class BankAccount:\n",
        "    def __init__(self, initial_balance=0):\n",
        "        self.__balance = initial_balance  # Private attribute\n",
        "\n",
        "    def deposit(self, amount):\n",
        "        if amount > 0:\n",
        "            self.__balance += amount\n",
        "            print(f\"Deposited: ${amount}\")\n",
        "        else:\n",
        "            print(\"Deposit amount must be positive.\")\n",
        "\n",
        "    def withdraw(self, amount):\n",
        "        if 0 < amount <= self.__balance:\n",
        "            self.__balance -= amount\n",
        "            print(f\"Withdrew: ${amount}\")\n",
        "        else:\n",
        "            print(\"Invalid withdrawal amount or insufficient balance.\")\n",
        "\n",
        "    def check_balance(self):\n",
        "        print(f\"Current Balance: ${self.__balance}\")\n",
        "\n",
        "# Creating an object of BankAccount\n",
        "account = BankAccount(1000)  # Initial balance is $1000\n",
        "\n",
        "# Checking balance\n",
        "account.check_balance()  # Output: Current Balance: $1000\n",
        "\n",
        "# Depositing money\n",
        "account.deposit(500)  # Output: Deposited: $500\n",
        "account.check_balance()  # Output: Current Balance: $1500\n",
        "\n",
        "# Withdrawing money\n",
        "account.withdraw(200)  # Output: Withdrew: $200\n",
        "account.check_balance()  # Output: Current Balance: $1300\n",
        "\n",
        "# Trying to withdraw an invalid amount\n",
        "account.withdraw(2000)  # Output: Invalid withdrawal amount or insufficient balance."
      ],
      "metadata": {
        "colab": {
          "base_uri": "https://localhost:8080/"
        },
        "id": "x1dULzgJkk2J",
        "outputId": "126606d4-733f-4a24-bd36-f6949be17b0e"
      },
      "execution_count": 5,
      "outputs": [
        {
          "output_type": "stream",
          "name": "stdout",
          "text": [
            "Current Balance: $1000\n",
            "Deposited: $500\n",
            "Current Balance: $1500\n",
            "Withdrew: $200\n",
            "Current Balance: $1300\n",
            "Invalid withdrawal amount or insufficient balance.\n"
          ]
        }
      ]
    },
    {
      "cell_type": "markdown",
      "source": [
        "# 6. Demonstrate runtime polymorphism using a method play() in a base class Instrument. Derive classes Guitar and Piano that implement their own version of play()."
      ],
      "metadata": {
        "id": "yRV8uP8kku0G"
      }
    },
    {
      "cell_type": "code",
      "source": [
        "# Base class Instrument\n",
        "class Instrument:\n",
        "    def play(self):\n",
        "        print(\"This instrument is being played.\")\n",
        "\n",
        "# Derived class Guitar\n",
        "class Guitar(Instrument):\n",
        "    def play(self):\n",
        "        print(\"The guitar is strumming.\")\n",
        "\n",
        "# Derived class Piano\n",
        "class Piano(Instrument):\n",
        "    def play(self):\n",
        "        print(\"The piano is being played.\")\n",
        "\n",
        "# Creating objects of Guitar and Piano\n",
        "guitar = Guitar()\n",
        "piano = Piano()\n",
        "\n",
        "# Calling the play() method on both objects\n",
        "guitar.play()  # Output: The guitar is strumming.\n",
        "piano.play()   # Output: The piano is being played."
      ],
      "metadata": {
        "colab": {
          "base_uri": "https://localhost:8080/"
        },
        "id": "f1mBxEnmk6KH",
        "outputId": "949558a5-b46b-4c1d-be70-900f608361c9"
      },
      "execution_count": 6,
      "outputs": [
        {
          "output_type": "stream",
          "name": "stdout",
          "text": [
            "The guitar is strumming.\n",
            "The piano is being played.\n"
          ]
        }
      ]
    },
    {
      "cell_type": "markdown",
      "source": [
        "#  7. Create a class MathOperations with a class method add_numbers() to add two numbers and a static method subtract_numbers() to subtract two numbers."
      ],
      "metadata": {
        "id": "f0HRz_fZk8IY"
      }
    },
    {
      "cell_type": "code",
      "source": [
        "class MathOperations:\n",
        "    @classmethod\n",
        "    def add_numbers(cls, a, b):\n",
        "        return a + b  # Adds two numbers\n",
        "\n",
        "    @staticmethod\n",
        "    def subtract_numbers(a, b):\n",
        "        return a - b  # Subtracts second number from first number\n",
        "\n",
        "# Using the class method to add numbers\n",
        "sum_result = MathOperations.add_numbers(10, 5)\n",
        "print(f\"Sum: {sum_result}\")  # Output: Sum: 15\n",
        "\n",
        "# Using the static method to subtract numbers\n",
        "difference_result = MathOperations.subtract_numbers(10, 5)\n",
        "print(f\"Difference: {difference_result}\")  # Output: Difference: 5"
      ],
      "metadata": {
        "colab": {
          "base_uri": "https://localhost:8080/"
        },
        "id": "K-mYtGCglBRn",
        "outputId": "3921d345-5f7e-4e48-c9e7-335f679f5598"
      },
      "execution_count": 7,
      "outputs": [
        {
          "output_type": "stream",
          "name": "stdout",
          "text": [
            "Sum: 15\n",
            "Difference: 5\n"
          ]
        }
      ]
    },
    {
      "cell_type": "markdown",
      "source": [
        "#  8. Implement a class Person with a class method to count the total number of persons created."
      ],
      "metadata": {
        "id": "kV43zZ7BlIVh"
      }
    },
    {
      "cell_type": "code",
      "source": [
        "class Person:\n",
        "    # Class variable to keep track of the total number of persons\n",
        "    total_persons = 0\n",
        "\n",
        "    def __init__(self, name, age):\n",
        "        self.name = name\n",
        "        self.age = age\n",
        "        Person.total_persons += 1  # Increment the count whenever a new object is created\n",
        "\n",
        "    @classmethod\n",
        "    def get_total_persons(cls):\n",
        "        return cls.total_persons  # Return the total number of persons created\n",
        "\n",
        "# Creating instances of Person\n",
        "person1 = Person(\"Ram\", 30)\n",
        "person2 = Person(\"Aman\", 25)\n",
        "person3 = Person(\"Krishna\", 35)\n",
        "\n",
        "# Using the class method to get the total number of persons created\n",
        "total = Person.get_total_persons()\n",
        "print(f\"Total persons created: {total}\")  # Output: Total persons created: 3"
      ],
      "metadata": {
        "colab": {
          "base_uri": "https://localhost:8080/"
        },
        "id": "6z1mw10llL0F",
        "outputId": "ed46dcab-fec9-4f05-89de-9b4e7d37cf76"
      },
      "execution_count": 8,
      "outputs": [
        {
          "output_type": "stream",
          "name": "stdout",
          "text": [
            "Total persons created: 3\n"
          ]
        }
      ]
    },
    {
      "cell_type": "markdown",
      "source": [
        "# 9. Write a class Fraction with attributes numerator and denominator. Override the str method to display the fraction as \"numerator/denominator\"."
      ],
      "metadata": {
        "id": "-rTyEw1x6Bkw"
      }
    },
    {
      "cell_type": "code",
      "source": [
        "class Fraction:\n",
        "    def __init__(self, numerator, denominator):\n",
        "        self.numerator = numerator\n",
        "        self.denominator = denominator\n",
        "\n",
        "    def __str__(self):\n",
        "        return f\"{self.numerator}/{self.denominator}\"\n",
        "\n",
        "# Creating an instance of Fraction\n",
        "fraction = Fraction(3, 4)\n",
        "\n",
        "# Printing the fraction object\n",
        "print(fraction)  # Output: 3/4"
      ],
      "metadata": {
        "colab": {
          "base_uri": "https://localhost:8080/"
        },
        "id": "8VFgTRro6Ihj",
        "outputId": "1c9d8564-c5d9-4f78-8f93-db336493f457"
      },
      "execution_count": 9,
      "outputs": [
        {
          "output_type": "stream",
          "name": "stdout",
          "text": [
            "3/4\n"
          ]
        }
      ]
    },
    {
      "cell_type": "markdown",
      "source": [
        "#  10. Demonstrate operator overloading by creating a class Vector and overriding the add method to add two vectors."
      ],
      "metadata": {
        "id": "gdsfnG1f6Ok3"
      }
    },
    {
      "cell_type": "code",
      "source": [
        "class Vector:\n",
        "    def __init__(self, x, y):\n",
        "        self.x = x\n",
        "        self.y = y\n",
        "\n",
        "    # Overriding the '+' operator using the __add__ method\n",
        "    def __add__(self, other):\n",
        "        if isinstance(other, Vector):\n",
        "            # Adding corresponding components of two vectors\n",
        "            return Vector(self.x + other.x, self.y + other.y)\n",
        "        return NotImplemented\n",
        "\n",
        "    # To make it easy to print the vector (override __str__ method)\n",
        "    def __str__(self):\n",
        "        return f\"({self.x}, {self.y})\"\n",
        "\n",
        "# Creating two vector objects\n",
        "v1 = Vector(2, 3)\n",
        "v2 = Vector(4, 5)\n",
        "\n",
        "# Adding two vectors using the overloaded '+' operator\n",
        "v3 = v1 + v2\n",
        "\n",
        "# Printing the result\n",
        "print(f\"v1 + v2 = {v3}\")"
      ],
      "metadata": {
        "colab": {
          "base_uri": "https://localhost:8080/"
        },
        "id": "kXdZ-fxD6UT2",
        "outputId": "1997ca53-93d3-485f-b4fd-674e310912ea"
      },
      "execution_count": 10,
      "outputs": [
        {
          "output_type": "stream",
          "name": "stdout",
          "text": [
            "v1 + v2 = (6, 8)\n"
          ]
        }
      ]
    },
    {
      "cell_type": "markdown",
      "source": [
        "#  11. Create a class Person with attributes name and age. Add a method greet() that prints \"Hello, my name is {name} and I am {age} years old\"."
      ],
      "metadata": {
        "id": "jtvJjRIP6dGx"
      }
    },
    {
      "cell_type": "code",
      "source": [
        "class Person:\n",
        "    def __init__(self, name, age):\n",
        "        self.name = name\n",
        "        self.age = age\n",
        "\n",
        "    def greet(self):\n",
        "        print(f\"Hello, my name is {self.name} and I am {self.age} years old\")\n",
        "\n",
        "# Creating an instance of Person\n",
        "person1 = Person(\"Rahul\", 30)\n",
        "\n",
        "# Calling the greet method\n",
        "person1.greet()"
      ],
      "metadata": {
        "colab": {
          "base_uri": "https://localhost:8080/"
        },
        "id": "K19NZAAc6n2a",
        "outputId": "4755760c-2f09-43a1-efe8-713614e86a55"
      },
      "execution_count": 11,
      "outputs": [
        {
          "output_type": "stream",
          "name": "stdout",
          "text": [
            "Hello, my name is Rahul and I am 30 years old\n"
          ]
        }
      ]
    },
    {
      "cell_type": "markdown",
      "source": [
        "#  12. Implement a class Student with attributes name and grades. Create a method average_grade() to compute the average of the grades."
      ],
      "metadata": {
        "id": "75aB_JJO6tch"
      }
    },
    {
      "cell_type": "code",
      "source": [
        "class Student:\n",
        "    def __init__(self, name, grades):\n",
        "        self.name = name\n",
        "        self.grades = grades\n",
        "\n",
        "    def average_grade(self):\n",
        "        if len(self.grades) == 0:\n",
        "            return 0  # Return 0 if no grades are available\n",
        "        return sum(self.grades) / len(self.grades)\n",
        "\n",
        "# Creating an instance of Student\n",
        "student1 = Student(\"Rahul\", [85, 90, 78, 92])\n",
        "\n",
        "# Calling the method to compute average grade\n",
        "average = student1.average_grade()\n",
        "print(f\"{student1.name}'s average grade is: {average:.2f}\")"
      ],
      "metadata": {
        "colab": {
          "base_uri": "https://localhost:8080/"
        },
        "id": "uj5I7CkR6yOB",
        "outputId": "5c744516-e295-4850-de57-1fe6933753a6"
      },
      "execution_count": 12,
      "outputs": [
        {
          "output_type": "stream",
          "name": "stdout",
          "text": [
            "Rahul's average grade is: 86.25\n"
          ]
        }
      ]
    },
    {
      "cell_type": "markdown",
      "source": [
        "#  13. Create a class Rectangle with methods set_dimensions() to set the dimensions and area() to calculate the area."
      ],
      "metadata": {
        "id": "n_ZRhs2e68Sc"
      }
    },
    {
      "cell_type": "code",
      "source": [
        "class Rectangle:\n",
        "    def __init__(self):\n",
        "        self.length = 0\n",
        "        self.width = 0\n",
        "\n",
        "    # Method to set the dimensions of the rectangle\n",
        "    def set_dimensions(self, length, width):\n",
        "        self.length = length\n",
        "        self.width = width\n",
        "\n",
        "    # Method to calculate the area of the rectangle\n",
        "    def area(self):\n",
        "        return self.length * self.width\n",
        "\n",
        "# Creating an instance of Rectangle\n",
        "rect = Rectangle()\n",
        "\n",
        "# Setting the dimensions of the rectangle\n",
        "rect.set_dimensions(5, 3)\n",
        "\n",
        "# Calculating the area of the rectangle\n",
        "area = rect.area()\n",
        "print(f\"The area of the rectangle is: {area}\")"
      ],
      "metadata": {
        "colab": {
          "base_uri": "https://localhost:8080/"
        },
        "id": "Pf9rES_p7Dh9",
        "outputId": "92c4f22c-7af7-4164-dc16-800a86b58c93"
      },
      "execution_count": 13,
      "outputs": [
        {
          "output_type": "stream",
          "name": "stdout",
          "text": [
            "The area of the rectangle is: 15\n"
          ]
        }
      ]
    },
    {
      "cell_type": "markdown",
      "source": [
        "#  14. Create a class Employee with a method calculate_salary() that computes the salary based on hours worked and hourly rate. Create a derived class Manager that adds a bonus to the salary."
      ],
      "metadata": {
        "id": "tE3K-eHm7ISx"
      }
    },
    {
      "cell_type": "code",
      "source": [
        "class Employee:\n",
        "    def __init__(self, name, hours_worked, hourly_rate):\n",
        "        self.name = name\n",
        "        self.hours_worked = hours_worked\n",
        "        self.hourly_rate = hourly_rate\n",
        "\n",
        "    def calculate_salary(self):\n",
        "        # Calculates salary based on hours worked and hourly rate\n",
        "        return self.hours_worked * self.hourly_rate\n",
        "\n",
        "# Derived class Manager\n",
        "class Manager(Employee):\n",
        "    def __init__(self, name, hours_worked, hourly_rate, bonus):\n",
        "        # Initialize the base class (Employee) constructor\n",
        "        super().__init__(name, hours_worked, hourly_rate)\n",
        "        self.bonus = bonus\n",
        "\n",
        "    def calculate_salary(self):\n",
        "        # Call the base class method to get the salary and add the bonus\n",
        "        salary = super().calculate_salary()\n",
        "        return salary + self.bonus\n",
        "\n",
        "# Creating an instance of Employee\n",
        "employee = Employee(\"Rahul\", 40, 20)\n",
        "\n",
        "# Creating an instance of Manager\n",
        "manager = Manager(\"Anjali\", 40, 25, 500)\n",
        "\n",
        "# Calculate salary for Employee and Manager\n",
        "employee_salary = employee.calculate_salary()\n",
        "manager_salary = manager.calculate_salary()\n",
        "\n",
        "print(f\"{employee.name}'s salary: ${employee_salary}\")\n",
        "print(f\"{manager.name}'s salary (with bonus): ${manager_salary}\")"
      ],
      "metadata": {
        "colab": {
          "base_uri": "https://localhost:8080/"
        },
        "id": "tEvuHtny7Ma9",
        "outputId": "c10583bf-78c5-4066-df2a-e065e77ee448"
      },
      "execution_count": 14,
      "outputs": [
        {
          "output_type": "stream",
          "name": "stdout",
          "text": [
            "Rahul's salary: $800\n",
            "Anjali's salary (with bonus): $1500\n"
          ]
        }
      ]
    },
    {
      "cell_type": "markdown",
      "source": [
        "# 15. Create a class Product with attributes name, price, and quantity. Implement a method total_price() that calculates the total price of the product."
      ],
      "metadata": {
        "id": "fOEnoS507mtu"
      }
    },
    {
      "cell_type": "code",
      "source": [
        "class Product:\n",
        "    def __init__(self, name, price, quantity):\n",
        "        self.name = name\n",
        "        self.price = price\n",
        "        self.quantity = quantity\n",
        "\n",
        "    def total_price(self):\n",
        "        # Calculates the total price by multiplying price and quantity\n",
        "        return self.price * self.quantity\n",
        "\n",
        "# Creating an instance of Product\n",
        "product1 = Product(\"Laptop\", 1000, 3)\n",
        "\n",
        "# Calling the total_price() method to calculate the total price\n",
        "total = product1.total_price()\n",
        "\n",
        "print(f\"The total price for {product1.name} is: ${total}\")"
      ],
      "metadata": {
        "colab": {
          "base_uri": "https://localhost:8080/"
        },
        "id": "r3DV85su7q5d",
        "outputId": "b4c1bfb8-6dba-45a0-ff35-887525279271"
      },
      "execution_count": 15,
      "outputs": [
        {
          "output_type": "stream",
          "name": "stdout",
          "text": [
            "The total price for Laptop is: $3000\n"
          ]
        }
      ]
    },
    {
      "cell_type": "markdown",
      "source": [
        "#  16. Create a class Animal with an abstract method sound(). Create two derived classes Cow and Sheep that implement the sound() method."
      ],
      "metadata": {
        "id": "xTJiRGT37yEa"
      }
    },
    {
      "cell_type": "code",
      "source": [
        "from abc import ABC, abstractmethod\n",
        "\n",
        "# Abstract class Animal\n",
        "class Animal(ABC):\n",
        "    @abstractmethod\n",
        "    def sound(self):\n",
        "        pass  # This is an abstract method that must be overridden by subclasses\n",
        "\n",
        "# Derived class Cow\n",
        "class Cow(Animal):\n",
        "    def sound(self):\n",
        "        print(\"Moo\")\n",
        "\n",
        "# Derived class Sheep\n",
        "class Sheep(Animal):\n",
        "    def sound(self):\n",
        "        print(\"Baa\")\n",
        "\n",
        "# Creating instances of Cow and Sheep\n",
        "cow = Cow()\n",
        "sheep = Sheep()\n",
        "\n",
        "# Calling the sound() method on each object\n",
        "cow.sound()\n",
        "sheep.sound()"
      ],
      "metadata": {
        "colab": {
          "base_uri": "https://localhost:8080/"
        },
        "id": "qOu-8wZ774gw",
        "outputId": "12094a96-b1a8-4d2d-faa3-b1c74baee790"
      },
      "execution_count": 16,
      "outputs": [
        {
          "output_type": "stream",
          "name": "stdout",
          "text": [
            "Moo\n",
            "Baa\n"
          ]
        }
      ]
    },
    {
      "cell_type": "markdown",
      "source": [
        "#  17. Create a class Book with attributes title, author, and year_published. Add a method get_book_info() that returns a formatted string with the book's details."
      ],
      "metadata": {
        "id": "XfC4wavP8Esj"
      }
    },
    {
      "cell_type": "code",
      "source": [
        "class Book:\n",
        "    def __init__(self, title, author, year_published):\n",
        "        self.title = title\n",
        "        self.author = author\n",
        "        self.year_published = year_published\n",
        "\n",
        "    def get_book_info(self):\n",
        "        # Returns a formatted string with the book's details\n",
        "        return f\"'{self.title}' by {self.author}, published in {self.year_published}\"\n",
        "\n",
        "# Creating an instance of Book\n",
        "book1 = Book(\"1984\", \"George Orwell\", 1949)\n",
        "\n",
        "# Getting and printing the book's information\n",
        "book_info = book1.get_book_info()\n",
        "print(book_info)"
      ],
      "metadata": {
        "colab": {
          "base_uri": "https://localhost:8080/"
        },
        "id": "1aFwuhna8Ik0",
        "outputId": "9ada9c65-0f63-424f-8cb9-01199d961164"
      },
      "execution_count": 17,
      "outputs": [
        {
          "output_type": "stream",
          "name": "stdout",
          "text": [
            "'1984' by George Orwell, published in 1949\n"
          ]
        }
      ]
    },
    {
      "cell_type": "markdown",
      "source": [
        "#  18. Create a class House with attributes address and price. Create a derived class Mansion that adds an attribute number_of_rooms."
      ],
      "metadata": {
        "id": "SqsSsOCx8aPp"
      }
    },
    {
      "cell_type": "code",
      "source": [
        "# Base class House\n",
        "class House:\n",
        "    def __init__(self, address, price):\n",
        "        self.address = address\n",
        "        self.price = price\n",
        "\n",
        "    def get_info(self):\n",
        "        return f\"House at {self.address} costs ${self.price}\"\n",
        "\n",
        "# Derived class Mansion\n",
        "class Mansion(House):\n",
        "    def __init__(self, address, price, number_of_rooms):\n",
        "        # Initialize the base class (House) constructor\n",
        "        super().__init__(address, price)\n",
        "        self.number_of_rooms = number_of_rooms\n",
        "\n",
        "    def get_info(self):\n",
        "        # Get the base class info and add number of rooms to the details\n",
        "        base_info = super().get_info()\n",
        "        return f\"{base_info} and has {self.number_of_rooms} rooms.\"\n",
        "\n",
        "# Creating instances of House and Mansion\n",
        "house = House(\"123 Main St\", 250000)\n",
        "mansion = Mansion(\"456 Luxury Ave\", 5000000, 10)\n",
        "\n",
        "# Getting and printing the information for both House and Mansion\n",
        "print(house.get_info())\n",
        "print(mansion.get_info())"
      ],
      "metadata": {
        "colab": {
          "base_uri": "https://localhost:8080/"
        },
        "id": "GGeuNHLs8k5n",
        "outputId": "d4b1135a-e0c8-4ee3-9783-45d8092da3d8"
      },
      "execution_count": 18,
      "outputs": [
        {
          "output_type": "stream",
          "name": "stdout",
          "text": [
            "House at 123 Main St costs $250000\n",
            "House at 456 Luxury Ave costs $5000000 and has 10 rooms.\n"
          ]
        }
      ]
    }
  ]
}